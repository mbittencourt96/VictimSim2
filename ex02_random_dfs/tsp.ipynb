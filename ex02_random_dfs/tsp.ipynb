{
 "cells": [
  {
   "cell_type": "code",
   "execution_count": 41,
   "metadata": {},
   "outputs": [
    {
     "name": "stdout",
     "output_type": "stream",
     "text": [
      "Vitimas nas posicoes: [(4, 2), (3, 7), (1, 5), (6, 7), (10, 6), (8, 7), (9, 7), (9, 8), (9, 9), (9, 10)]\n"
     ]
    }
   ],
   "source": [
    "import numpy as np\n",
    "from python_tsp.distances import great_circle_distance_matrix\n",
    "from python_tsp.exact import solve_tsp_dynamic_programming\n",
    "import math\n",
    "import random\n",
    "\n",
    "# array de vitimas (aqui deve vir do algoritmo genetico na ordem desejada em cada iteracao)\n",
    "victims_positions = [(4, 2), (3,7), (1,5), (6, 7), (10, 6), (8,7), (9,7), (9,8), (9,9), (9,10)]\n",
    "print(\"Vitimas nas posicoes: {}\".format(victims_positions))"
   ]
  },
  {
   "cell_type": "code",
   "execution_count": 42,
   "metadata": {},
   "outputs": [
    {
     "name": "stdout",
     "output_type": "stream",
     "text": [
      "\n",
      "Matriz de distancias:\n",
      "[[0.0, 5.0990195135927845, 4.242640687119285, 5.385164807134504, 7.211102550927978, 6.4031242374328485, 7.0710678118654755, 7.810249675906654, 8.602325267042627, 9.433981132056603], [5.0990195135927845, 0.0, 2.8284271247461903, 3.0, 7.0710678118654755, 5.0, 6.0, 6.082762530298219, 6.324555320336759, 6.708203932499369], [4.242640687119285, 2.8284271247461903, 0.0, 5.385164807134504, 9.055385138137417, 7.280109889280518, 8.246211251235321, 8.54400374531753, 8.94427190999916, 9.433981132056603], [5.385164807134504, 3.0, 5.385164807134504, 0.0, 4.123105625617661, 2.0, 3.0, 3.1622776601683795, 3.605551275463989, 4.242640687119285], [7.211102550927978, 7.0710678118654755, 9.055385138137417, 4.123105625617661, 0.0, 2.23606797749979, 1.4142135623730951, 2.23606797749979, 3.1622776601683795, 4.123105625617661], [6.4031242374328485, 5.0, 7.280109889280518, 2.0, 2.23606797749979, 0.0, 1.0, 1.4142135623730951, 2.23606797749979, 3.1622776601683795], [7.0710678118654755, 6.0, 8.246211251235321, 3.0, 1.4142135623730951, 1.0, 0.0, 1.0, 2.0, 3.0], [7.810249675906654, 6.082762530298219, 8.54400374531753, 3.1622776601683795, 2.23606797749979, 1.4142135623730951, 1.0, 0.0, 1.0, 2.0], [8.602325267042627, 6.324555320336759, 8.94427190999916, 3.605551275463989, 3.1622776601683795, 2.23606797749979, 2.0, 1.0, 0.0, 1.0], [9.433981132056603, 6.708203932499369, 9.433981132056603, 4.242640687119285, 4.123105625617661, 3.1622776601683795, 3.0, 2.0, 1.0, 0.0]]\n",
      "\n",
      "Permutacao: [0, 2, 1, 3, 5, 9, 8, 7, 6, 4]\n",
      "Distancia total: 26.85866158533493\n"
     ]
    }
   ],
   "source": [
    "# Algoritmo escolhido: Caixeiro viajante\n",
    "\n",
    "# gera a matriz de distancias\n",
    "def calculate_distance(pos1, pos2):\n",
    "    x1, y1 = pos1\n",
    "    x2, y2 = pos2\n",
    "    return math.sqrt((x2 - x1)**2 + (y2 - y1)**2)\n",
    "\n",
    "def generate_distance_matrix(positions):\n",
    "    n = len(positions)\n",
    "    distance_matrix = [[0] * n for _ in range(n)]\n",
    "    for i in range(n):\n",
    "        for j in range(n):\n",
    "            distance_matrix[i][j] = calculate_distance(positions[i], positions[j])\n",
    "    return distance_matrix\n",
    "\n",
    "distance_matrix = generate_distance_matrix(victims_positions)\n",
    "\n",
    "print()\n",
    "print(\"Matriz de distancias:\")\n",
    "print(distance_matrix)\n",
    "# for row in distance_matrix:\n",
    "#     print(row)\n",
    "\n",
    "# calcula a distancia total percorrida e o caminho\n",
    "distance_matrix = np.array(distance_matrix)\n",
    "permutation, distance = solve_tsp_dynamic_programming(distance_matrix)\n",
    "print()\n",
    "print(\"Permutacao: {}\".format(permutation))\n",
    "print(\"Distancia total: {}\".format(distance))"
   ]
  },
  {
   "cell_type": "code",
   "execution_count": 43,
   "metadata": {},
   "outputs": [
    {
     "name": "stdout",
     "output_type": "stream",
     "text": [
      "Original: [(4, 2), (3, 7), (1, 5), (6, 7), (10, 6), (8, 7), (9, 7), (9, 8), (9, 9), (9, 10)]\n",
      "Permutação 1: [(10, 6), (9, 9), (9, 10), (4, 2), (1, 5), (9, 7), (9, 8), (8, 7), (3, 7), (6, 7)]\n",
      "Permutação 2: [(4, 2), (9, 9), (9, 8), (8, 7), (3, 7), (10, 6), (9, 7), (1, 5), (6, 7), (9, 10)]\n",
      "Permutação 3: [(3, 7), (9, 10), (9, 9), (10, 6), (8, 7), (4, 2), (6, 7), (1, 5), (9, 7), (9, 8)]\n"
     ]
    }
   ],
   "source": [
    "# Populacao inicial: Gerando uma população inicial de soluções (permutações) de maneira aleatória\n",
    "\n",
    "# TODO: Pegar a lista de vitimas (lista deve ser uma lista de dicionarios, com posicoes e gravidade)\n",
    "# Embaralha aleatoriamente a lista original de vitimas, gerando novas sequencias de salvamento\n",
    "lista_1 = random.sample(victims_positions, len(victims_positions))\n",
    "lista_2 = random.sample(victims_positions, len(victims_positions))\n",
    "lista_3 = random.sample(victims_positions, len(victims_positions))\n",
    "\n",
    "print(f\"Original: {victims_positions}\")\n",
    "print(f\"Permutação 1: {lista_1}\")\n",
    "print(f\"Permutação 2: {lista_2}\")\n",
    "print(f\"Permutação 3: {lista_3}\")"
   ]
  },
  {
   "cell_type": "code",
   "execution_count": 57,
   "metadata": {},
   "outputs": [],
   "source": [
    "# Função de aptidão\n",
    "# Avalie quão boa é uma solução, gerada com o TS tendo como entrada cada uma das listas anteriores\n",
    "# Leva em consideração a distância total percorrida na rota e também a gravidade total das vitimas salvas. \n",
    "\n",
    "# usada para retornar uma lista de prioridades de posicoes, para uma lista de posicoes\n",
    "# exemplo:\n",
    "# list = [(0, 0), (1,2), (3,0), (6, 7)]\n",
    "# permutation = [0, 3, 1, 2]\n",
    "# return = [(0,0), (6,7),(1,2),(3,0)]\n",
    "def convert_to_position(positions, permutation):\n",
    "    return [positions[i] for i in permutation]\n",
    "\n",
    "# Determina uma pontuacao pra dada solucao\n",
    "# permutacao: rota da solucao\n",
    "# distancia_total: distancia total se tiveer tempo de percorrer toda a rota\n",
    "# tempo: tempo que o agente tem para executar a rota\n",
    "def aptidao(permutacao, distancia_total, tempo):\n",
    "    # tenta executar essa rota, retorna quantas vitimas (gravidade total) conseguiu salvar\n",
    "    return 50"
   ]
  },
  {
   "cell_type": "code",
   "execution_count": 59,
   "metadata": {},
   "outputs": [
    {
     "name": "stdout",
     "output_type": "stream",
     "text": [
      "🧾 Lista 1:\n",
      "Lista: [(10, 6), (9, 9), (9, 10), (4, 2), (1, 5), (9, 7), (9, 8), (8, 7), (3, 7), (6, 7)]\n",
      "Permutacao (rota TS) em prioridades: [0, 5, 6, 1, 2, 7, 9, 8, 4, 3]\n",
      "Permutacao (rota TS): [(10, 6), (9, 7), (9, 8), (9, 9), (9, 10), (8, 7), (6, 7), (3, 7), (1, 5), (4, 2)]\n",
      "Distancia total: 26.858661585334925\n",
      "🧾 Lista 2:\n",
      "Lista: [(4, 2), (9, 9), (9, 8), (8, 7), (3, 7), (10, 6), (9, 7), (1, 5), (6, 7), (9, 10)]\n",
      "Permutacao (rota TS) em prioridades: [0, 5, 6, 2, 1, 9, 3, 8, 4, 7]\n",
      "Permutacao (rota TS): [(4, 2), (10, 6), (9, 7), (9, 8), (9, 9), (9, 10), (8, 7), (6, 7), (3, 7), (1, 5)]\n",
      "Distancia total: 26.85866158533493\n",
      "🧾 Lista 3:\n",
      "Lista: [(3, 7), (9, 10), (9, 9), (10, 6), (8, 7), (4, 2), (6, 7), (1, 5), (9, 7), (9, 8)]\n",
      "Permutacao (rota TS) em prioridades: [0, 6, 4, 1, 2, 9, 8, 3, 5, 7]\n",
      "Permutacao (rota TS): [(3, 7), (6, 7), (8, 7), (9, 10), (9, 9), (9, 8), (9, 7), (10, 6), (4, 2), (1, 5)]\n",
      "Distancia total: 26.85866158533493\n"
     ]
    }
   ],
   "source": [
    "# Seleção: \n",
    "# Seleciona indivíduos da população atual para reprodução,\n",
    "# Usar o melhor_pontuacao e o segunda_melhor_pontuacao\n",
    "\n",
    "all_lists = [lista_1, lista_2, lista_3]\n",
    "# print(all_lists)\n",
    "\n",
    "melhor_pontuacao = 0\n",
    "segunda_melhor_pontuacao = -1\n",
    "\n",
    "for i, lista in enumerate(all_lists):\n",
    "    distance_matrix = generate_distance_matrix(lista)\n",
    "    distance_matrix = np.array(distance_matrix)\n",
    "    permutation, distance = solve_tsp_dynamic_programming(distance_matrix)\n",
    "    print(\"🧾 Lista {}:\".format(i+1))\n",
    "    # print(\"Matriz de distancias: {}\".format(distance_matrix))\n",
    "    print(\"Lista: {}\".format(lista))\n",
    "    print(\"Permutacao (rota TS) em prioridades: {}\".format(permutation))\n",
    "    permutation = convert_to_position(lista, permutation)\n",
    "    print(\"Permutacao (rota TS): {}\".format(permutation))\n",
    "    print(\"Distancia total: {}\".format(distance))\n",
    "\n",
    "    pontuacao_rota_atual = aptidao(permutation, distance, 100)\n",
    "    if pontuacao_rota_atual > melhor_pontuacao:\n",
    "        melhor_pontuacao = pontuacao_rota_atual\n",
    "        melhor_rota = permutation\n",
    "        melhor_distancia = distance\n",
    "    else:\n",
    "        if pontuacao_rota_atual > segunda_melhor_pontuacao:\n",
    "            segunda_melhor_pontuacao = pontuacao_rota_atual\n",
    "            segunda_melhor_rota = permutation\n",
    "            segunda_melhor_distancia = distance\n"
   ]
  },
  {
   "cell_type": "code",
   "execution_count": null,
   "metadata": {},
   "outputs": [],
   "source": [
    "\n"
   ]
  }
 ],
 "metadata": {
  "interpreter": {
   "hash": "98590ff4fe04c8543246b2a01debd3de3c5ca9b666f43f1fa87d5110c692004c"
  },
  "kernelspec": {
   "display_name": "Python 3.10.4 64-bit",
   "name": "python3"
  },
  "language_info": {
   "codemirror_mode": {
    "name": "ipython",
    "version": 3
   },
   "file_extension": ".py",
   "mimetype": "text/x-python",
   "name": "python",
   "nbconvert_exporter": "python",
   "pygments_lexer": "ipython3",
   "version": "3.10.4"
  },
  "orig_nbformat": 4
 },
 "nbformat": 4,
 "nbformat_minor": 2
}