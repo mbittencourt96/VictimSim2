{
 "cells": [
  {
   "cell_type": "code",
   "execution_count": 94,
   "metadata": {},
   "outputs": [
    {
     "name": "stdout",
     "output_type": "stream",
     "text": [
      "Vitimas:\n",
      "\n",
      "Id: 1\n",
      "Posicao: (4, 2)\n",
      "Gravidade: 2\n",
      "\n",
      "Id: 2\n",
      "Posicao: (0, 0)\n",
      "Gravidade: 1\n",
      "\n",
      "Id: 3\n",
      "Posicao: (1, 5)\n",
      "Gravidade: 0\n",
      "\n",
      "Id: 4\n",
      "Posicao: (3, 3)\n",
      "Gravidade: 4\n"
     ]
    }
   ],
   "source": [
    "import numpy as np\n",
    "from python_tsp.distances import great_circle_distance_matrix\n",
    "from python_tsp.exact import solve_tsp_dynamic_programming\n",
    "import math\n",
    "import random\n",
    "\n",
    "# array de vitimas\n",
    "# victims_info = [(4, 2), (3,7), (1,5), (6, 7), (10, 6), (8,7), (9,7), (9,8), (9,9), (9,10)]\n",
    "# victims_positions = [(4, 2), (0,0), (1,5)]\n",
    "# print(\"Vitimas nas posicoes: {}\".format(victims_positions))\n",
    "\n",
    "\n",
    "# victims_info = [ [1, (4,2), 2], [2, (0,0), 2], [3, (1,5), 0], [4, (8,5), 3], [5, (0,0), 0] ]\n",
    "\n",
    "\n",
    "# Array de vitimas. Primeiro parametro é o ID, segundo é a posicao, terceiro é a gravidade\n",
    "victims_info = [ ['um', (4,2), 2], ['dois', (0,0), 1], ['tres', (1,5), 0],  ['quatro', (3,3), 4] ]\n",
    "\n",
    "print(\"Vitimas:\")\n",
    "for victim_info in victims_info:\n",
    "    victim_id = victim_info[0]\n",
    "    position = victim_info[1]\n",
    "    gravity = victim_info[2]\n",
    "    print()\n",
    "    print(\"Id: {}\".format(victim_id))\n",
    "    print(\"Posicao: {}\".format(position))\n",
    "    print(\"Gravidade: {}\".format(gravity))"
   ]
  },
  {
   "cell_type": "code",
   "execution_count": 93,
   "metadata": {},
   "outputs": [
    {
     "name": "stdout",
     "output_type": "stream",
     "text": [
      "\n",
      "Matriz de distancias:\n",
      "[[0.0, 4.47213595499958, 4.242640687119285, 1.4142135623730951], [4.47213595499958, 0.0, 5.0990195135927845, 4.242640687119285], [4.242640687119285, 5.0990195135927845, 0.0, 2.8284271247461903], [1.4142135623730951, 4.242640687119285, 2.8284271247461903, 0.0]]\n",
      "\n",
      "Permutacao: [0, 1, 2, 3]\n",
      "Distancia total: 13.81379615571165\n"
     ]
    }
   ],
   "source": [
    "# Algoritmo escolhido: Caixeiro viajante, funcoes auxiliares\n",
    "\n",
    "# gera a matriz de distancias\n",
    "def calculate_distance(pos1, pos2):\n",
    "    x1, y1 = pos1\n",
    "    x2, y2 = pos2\n",
    "    return math.sqrt((x2 - x1)**2 + (y2 - y1)**2)\n",
    "\n",
    "def generate_distance_matrix(victims_info):\n",
    "    positions = [info[1] for info in victims_info]\n",
    "    n = len(positions)\n",
    "    distance_matrix = [[0] * n for _ in range(n)]\n",
    "    for i in range(n):\n",
    "        for j in range(n):\n",
    "            distance_matrix[i][j] = calculate_distance(positions[i], positions[j])\n",
    "    return distance_matrix\n",
    "\n",
    "distance_matrix = generate_distance_matrix(victims_info)\n",
    "\n",
    "print()\n",
    "print(\"Matriz de distancias:\")\n",
    "print(distance_matrix)\n",
    "# for row in distance_matrix:\n",
    "#     print(row)\n",
    "\n",
    "# calcula a distancia total percorrida e o caminho\n",
    "distance_matrix = np.array(distance_matrix)\n",
    "permutation, distance = solve_tsp_dynamic_programming(distance_matrix)\n",
    "print()\n",
    "print(\"Permutacao: {}\".format(permutation))\n",
    "print(\"Distancia total: {}\".format(distance))"
   ]
  },
  {
   "cell_type": "code",
   "execution_count": 95,
   "metadata": {},
   "outputs": [
    {
     "name": "stdout",
     "output_type": "stream",
     "text": [
      "Original: [[1, (4, 2), 2], [2, (0, 0), 1], [3, (1, 5), 0], [4, (3, 3), 4]]\n",
      "Permutação 1: [[3, (1, 5), 0], [4, (3, 3), 4], [2, (0, 0), 1], [1, (4, 2), 2]]\n",
      "Permutação 2: [[1, (4, 2), 2], [3, (1, 5), 0], [2, (0, 0), 1], [4, (3, 3), 4]]\n",
      "Permutação 3: [[2, (0, 0), 1], [4, (3, 3), 4], [1, (4, 2), 2], [3, (1, 5), 0]]\n",
      "Permutação 4: [[4, (3, 3), 4], [1, (4, 2), 2], [3, (1, 5), 0], [2, (0, 0), 1]]\n"
     ]
    }
   ],
   "source": [
    "# Populacao inicial: Gerando uma população inicial de soluções (permutações) de maneira aleatória\n",
    "\n",
    "# Embaralha aleatoriamente a lista original de vitimas, gerando novas sequencias de salvamento\n",
    "lista_1 = random.sample(victims_info, len(victims_info))\n",
    "lista_2 = random.sample(victims_info, len(victims_info))\n",
    "lista_3 = random.sample(victims_info, len(victims_info))\n",
    "lista_4 = random.sample(victims_info, len(victims_info))\n",
    "\n",
    "print(f\"Original: {victims_info}\")\n",
    "print(f\"Permutação 1: {lista_1}\")\n",
    "print(f\"Permutação 2: {lista_2}\")\n",
    "print(f\"Permutação 3: {lista_3}\")\n",
    "print(f\"Permutação 4: {lista_4}\")"
   ]
  },
  {
   "cell_type": "code",
   "execution_count": 64,
   "metadata": {},
   "outputs": [],
   "source": [
    "# Função de aptidão\n",
    "# Avalie quão boa é uma solução, gerada com o TS tendo como entrada cada uma das listas anteriores\n",
    "# Leva em consideração a distância total percorrida na rota e também a gravidade total das vitimas salvas. \n",
    "\n",
    "# usada para retornar uma lista de prioridades de posicoes, para uma lista de posicoes\n",
    "# exemplo:\n",
    "# list = [(0, 0), (1,2), (3,0), (6, 7)]\n",
    "# permutation = [0, 3, 1, 2]\n",
    "# return = [(0,0), (6,7),(1,2),(3,0)]\n",
    "def convert_to_position(positions, permutation):\n",
    "    return [positions[i] for i in permutation]\n",
    "\n",
    "# Determina uma pontuacao pra dada solucao\n",
    "# permutacao: rota da solucao\n",
    "# distancia_total: distancia total se tiveer tempo de percorrer toda a rota\n",
    "# tempo: tempo que o agente tem para executar a rota\n",
    "def aptidao(permutacao, distancia_total, tempo):\n",
    "    # tenta executar essa rota, retorna quantas vitimas (gravidade total) conseguiu salvar\n",
    "    return 50"
   ]
  },
  {
   "cell_type": "code",
   "execution_count": 70,
   "metadata": {},
   "outputs": [
    {
     "name": "stdout",
     "output_type": "stream",
     "text": [
      "🧾 Lista 1:\n",
      "Lista: [(6, 7), (1, 5), (8, 7), (9, 8), (9, 10), (9, 9), (10, 6), (9, 7), (3, 7), (4, 2)]\n",
      "Permutacao (rota TS) em prioridades: [0, 2, 4, 5, 3, 7, 6, 9, 1, 8]\n",
      "Permutacao (rota TS): [(6, 7), (8, 7), (9, 10), (9, 9), (9, 8), (9, 7), (10, 6), (4, 2), (1, 5), (3, 7)]\n",
      "Distancia total: 26.85866158533493\n",
      "🧾 Lista 2:\n",
      "Lista: [(10, 6), (8, 7), (3, 7), (9, 10), (4, 2), (6, 7), (9, 8), (9, 9), (9, 7), (1, 5)]\n",
      "Permutacao (rota TS) em prioridades: [0, 8, 6, 7, 3, 1, 5, 2, 9, 4]\n",
      "Permutacao (rota TS): [(10, 6), (9, 7), (9, 8), (9, 9), (9, 10), (8, 7), (6, 7), (3, 7), (1, 5), (4, 2)]\n",
      "Distancia total: 26.858661585334925\n",
      "🧾 Lista 3:\n",
      "Lista: [(9, 9), (4, 2), (8, 7), (9, 7), (6, 7), (3, 7), (9, 8), (10, 6), (1, 5), (9, 10)]\n",
      "Permutacao (rota TS) em prioridades: [0, 6, 3, 7, 1, 8, 5, 4, 2, 9]\n",
      "Permutacao (rota TS): [(9, 9), (9, 8), (9, 7), (10, 6), (4, 2), (1, 5), (3, 7), (6, 7), (8, 7), (9, 10)]\n",
      "Distancia total: 26.85866158533493\n",
      "🧾 Lista 4:\n",
      "Lista: [(10, 6), (3, 7), (9, 7), (4, 2), (8, 7), (9, 8), (9, 10), (9, 9), (1, 5), (6, 7)]\n",
      "Permutacao (rota TS) em prioridades: [0, 2, 5, 7, 6, 4, 9, 1, 8, 3]\n",
      "Permutacao (rota TS): [(10, 6), (9, 7), (9, 8), (9, 9), (9, 10), (8, 7), (6, 7), (3, 7), (1, 5), (4, 2)]\n",
      "Distancia total: 26.858661585334925\n",
      "\n",
      "🌳 Melhores rotas (individuos) pós seleção:\n",
      "Pai 1: [(6, 7), (8, 7), (9, 10), (9, 9), (9, 8), (9, 7), (10, 6), (4, 2), (1, 5), (3, 7)]\n",
      "Pai 2: [(10, 6), (9, 7), (9, 8), (9, 9), (9, 10), (8, 7), (6, 7), (3, 7), (1, 5), (4, 2)]\n"
     ]
    }
   ],
   "source": [
    "# Seleção: \n",
    "# Seleciona indivíduos da população atual para reprodução\n",
    "# Usar o melhor_rota e o segunda_melhor_rota\n",
    "\n",
    "all_lists = [lista_1, lista_2, lista_3, lista_4]\n",
    "# print(all_lists)\n",
    "\n",
    "melhor_pontuacao = 0\n",
    "segunda_melhor_pontuacao = -1\n",
    "\n",
    "for i, lista in enumerate(all_lists):\n",
    "    distance_matrix = generate_distance_matrix(lista)\n",
    "    distance_matrix = np.array(distance_matrix)\n",
    "    permutation, distance = solve_tsp_dynamic_programming(distance_matrix)\n",
    "    print(\"🧾 Lista {}:\".format(i+1))\n",
    "    # print(\"Matriz de distancias: {}\".format(distance_matrix))\n",
    "    print(\"Lista: {}\".format(lista))\n",
    "    print(\"Permutacao (rota TS) em prioridades: {}\".format(permutation))\n",
    "    permutation = convert_to_position(lista, permutation)\n",
    "    print(\"Permutacao (rota TS): {}\".format(permutation))\n",
    "    print(\"Distancia total: {}\".format(distance))\n",
    "\n",
    "    pontuacao_rota_atual = aptidao(permutation, distance, 100)\n",
    "    if pontuacao_rota_atual > melhor_pontuacao:\n",
    "        melhor_pontuacao = pontuacao_rota_atual\n",
    "        melhor_rota = permutation\n",
    "        melhor_distancia = distance\n",
    "    else:\n",
    "        if pontuacao_rota_atual > segunda_melhor_pontuacao:\n",
    "            segunda_melhor_pontuacao = pontuacao_rota_atual\n",
    "            segunda_melhor_rota = permutation\n",
    "            segunda_melhor_distancia = distance\n",
    "\n",
    "print()\n",
    "print(\"🌳 Melhores rotas (individuos) pós seleção:\")\n",
    "print(\"Pai 1:\", melhor_rota)\n",
    "print(\"Pai 2:\", segunda_melhor_rota)\n"
   ]
  },
  {
   "cell_type": "code",
   "execution_count": 67,
   "metadata": {},
   "outputs": [
    {
     "name": "stdout",
     "output_type": "stream",
     "text": [
      "🌳 Rotas:\n",
      "Pai 1: [(6, 7), (8, 7), (9, 10), (9, 9), (9, 8), (9, 7), (10, 6), (4, 2), (1, 5), (3, 7)]\n",
      "Pai 2: [(10, 6), (9, 7), (9, 8), (9, 9), (9, 10), (8, 7), (6, 7), (3, 7), (1, 5), (4, 2)]\n",
      "Nova Rota 1: [(6, 7), (8, 7), (9, 10), (9, 9), (9, 8), (9, 7), (10, 6), (3, 7), (1, 5), (4, 2)]\n",
      "Nova Rota 2: [(10, 6), (9, 7), (9, 8), (9, 9), (9, 10), (8, 7), (6, 7), (4, 2), (1, 5), (3, 7)]\n"
     ]
    }
   ],
   "source": [
    "# Recombinação (Crossover): \n",
    "# Aplica operadores de crossover (recombinação) para criar novos indivíduos (soluções).\n",
    "\n",
    "# Vamos usar os dois melhores individuos, gerados na ultima etapa, para criar mais dois\n",
    "\n",
    "def crossover(route1, route2):\n",
    "    # Escolher um ponto de corte aleatório\n",
    "    crossover_point = random.randint(1, len(route1) - 1)\n",
    "\n",
    "    # Trocar as subsequências das rotas a partir do ponto de corte\n",
    "    new_route1 = route1[:crossover_point] + [pos for pos in route2 if pos not in route1[:crossover_point]]\n",
    "    new_route2 = route2[:crossover_point] + [pos for pos in route1 if pos not in route2[:crossover_point]]\n",
    "\n",
    "    return new_route1, new_route2\n",
    "\n",
    "# Crossover\n",
    "nova_rota1, nova_rota2 = crossover(melhor_rota, segunda_melhor_rota)\n",
    "\n",
    "print(\"🌳 Rotas:\")\n",
    "print(\"Pai 1:\", melhor_rota)\n",
    "print(\"Pai 2:\", segunda_melhor_rota)\n",
    "print(\"Nova Rota 1:\", nova_rota1)\n",
    "print(\"Nova Rota 2:\", nova_rota2)\n"
   ]
  },
  {
   "cell_type": "code",
   "execution_count": 72,
   "metadata": {},
   "outputs": [
    {
     "name": "stdout",
     "output_type": "stream",
     "text": [
      "Nova Rota 1 após a mutação: [(6, 7), (8, 7), (9, 10), (9, 9), (10, 6), (9, 8), (9, 7), (3, 7), (1, 5), (4, 2)]\n"
     ]
    }
   ],
   "source": [
    "# Mutação: \n",
    "# Aplica operadores de mutação para introduzir diversidade na população. Faz isso trocando duas posicoes da rota nova 1\n",
    "\n",
    "def mutate(route):\n",
    "    # Escolher aleatoriamente dois índices distintos na lista\n",
    "    idx1, idx2 = random.sample(range(len(route)), 2)\n",
    "\n",
    "    # Trocar os elementos nos índices selecionados\n",
    "    route[idx1], route[idx2] = route[idx2], route[idx1]\n",
    "\n",
    "    return route\n",
    "\n",
    "nova_rota1 = mutate(nova_rota1)\n",
    "\n",
    "print(\"Nova Rota 1 após a mutação:\", nova_rota1)"
   ]
  }
 ],
 "metadata": {
  "interpreter": {
   "hash": "98590ff4fe04c8543246b2a01debd3de3c5ca9b666f43f1fa87d5110c692004c"
  },
  "kernelspec": {
   "display_name": "Python 3.10.4 64-bit",
   "name": "python3"
  },
  "language_info": {
   "codemirror_mode": {
    "name": "ipython",
    "version": 3
   },
   "file_extension": ".py",
   "mimetype": "text/x-python",
   "name": "python",
   "nbconvert_exporter": "python",
   "pygments_lexer": "ipython3",
   "version": "3.10.4"
  },
  "orig_nbformat": 4
 },
 "nbformat": 4,
 "nbformat_minor": 2
}