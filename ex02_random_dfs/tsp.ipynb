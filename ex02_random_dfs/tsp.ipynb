{
 "cells": [
  {
   "cell_type": "code",
   "execution_count": 8,
   "metadata": {},
   "outputs": [
    {
     "name": "stdout",
     "output_type": "stream",
     "text": [
      "Vitimas nas posicoes: [(0, 0), (0, 1), (2, 3), (4, 5), (1, 1)]\n",
      "[0.0, 1.0, 3.605551275463989, 6.4031242374328485, 1.4142135623730951]\n",
      "[1.0, 0.0, 2.8284271247461903, 5.656854249492381, 1.0]\n",
      "[3.605551275463989, 2.8284271247461903, 0.0, 2.8284271247461903, 2.23606797749979]\n",
      "[6.4031242374328485, 5.656854249492381, 2.8284271247461903, 0.0, 5.0]\n",
      "[1.4142135623730951, 1.0, 2.23606797749979, 5.0, 0.0]\n"
     ]
    }
   ],
   "source": [
    "import numpy as np\n",
    "from python_tsp.distances import great_circle_distance_matrix\n",
    "from python_tsp.exact import solve_tsp_dynamic_programming\n",
    "import math\n",
    "\n",
    "# array de vitimas\n",
    "victims_positions = [(0,0), (0,1), (2, 3), (4, 5), (1, 1)]\n",
    "print(\"Vitimas nas posicoes: {}\".format(victims_positions))\n",
    "\n",
    "# gera a matriz de distancias\n",
    "def calculate_distance(pos1, pos2):\n",
    "    x1, y1 = pos1\n",
    "    x2, y2 = pos2\n",
    "    return math.sqrt((x2 - x1)**2 + (y2 - y1)**2)\n",
    "\n",
    "def generate_distance_matrix(positions):\n",
    "    n = len(positions)\n",
    "    distance_matrix = [[0] * n for _ in range(n)]\n",
    "    for i in range(n):\n",
    "        for j in range(n):\n",
    "            distance_matrix[i][j] = calculate_distance(positions[i], positions[j])\n",
    "    return distance_matrix\n",
    "\n",
    "distance_matrix = generate_distance_matrix(victims_positions)\n",
    "\n",
    "print(\"Matriz de distancias:\")\n",
    "for row in distance_matrix:\n",
    "    print(row)"
   ]
  }
 ],
 "metadata": {
  "interpreter": {
   "hash": "98590ff4fe04c8543246b2a01debd3de3c5ca9b666f43f1fa87d5110c692004c"
  },
  "kernelspec": {
   "display_name": "Python 3.10.4 64-bit",
   "name": "python3"
  },
  "language_info": {
   "codemirror_mode": {
    "name": "ipython",
    "version": 3
   },
   "file_extension": ".py",
   "mimetype": "text/x-python",
   "name": "python",
   "nbconvert_exporter": "python",
   "pygments_lexer": "ipython3",
   "version": "3.10.4"
  },
  "orig_nbformat": 4
 },
 "nbformat": 4,
 "nbformat_minor": 2
}