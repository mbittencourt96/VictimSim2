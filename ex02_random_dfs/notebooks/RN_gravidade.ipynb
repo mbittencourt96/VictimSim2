{
 "cells": [
  {
   "cell_type": "code",
   "execution_count": 1,
   "id": "5ddd5127-83cf-4fba-a4f2-1ae00e79ed30",
   "metadata": {},
   "outputs": [],
   "source": [
    "import numpy as np\n",
    "from sklearn.neural_network import MLPRegressor\n",
    "from sklearn.model_selection import train_test_split\n",
    "from sklearn.metrics import mean_squared_error"
   ]
  },
  {
   "cell_type": "code",
   "execution_count": 2,
   "id": "2d2da24c-3937-4699-923c-9f6ba3d0c538",
   "metadata": {},
   "outputs": [],
   "source": [
    "import pandas as pd"
   ]
  },
  {
   "cell_type": "code",
   "execution_count": 32,
   "id": "722869dc-d224-4efe-aaac-d33d6842bcff",
   "metadata": {},
   "outputs": [],
   "source": [
    "import pickle"
   ]
  },
  {
   "cell_type": "code",
   "execution_count": 5,
   "id": "bc0a92ff-bfe5-4bc5-a5ef-b7b31dd097b2",
   "metadata": {},
   "outputs": [],
   "source": [
    "df_victims = pd.read_csv('env_vital_signals.txt', header=None)"
   ]
  },
  {
   "cell_type": "code",
   "execution_count": 6,
   "id": "617cec67-7df9-4567-b946-7b1c777902e6",
   "metadata": {},
   "outputs": [
    {
     "data": {
      "text/html": [
       "<div>\n",
       "<style scoped>\n",
       "    .dataframe tbody tr th:only-of-type {\n",
       "        vertical-align: middle;\n",
       "    }\n",
       "\n",
       "    .dataframe tbody tr th {\n",
       "        vertical-align: top;\n",
       "    }\n",
       "\n",
       "    .dataframe thead th {\n",
       "        text-align: right;\n",
       "    }\n",
       "</style>\n",
       "<table border=\"1\" class=\"dataframe\">\n",
       "  <thead>\n",
       "    <tr style=\"text-align: right;\">\n",
       "      <th></th>\n",
       "      <th>0</th>\n",
       "      <th>1</th>\n",
       "      <th>2</th>\n",
       "      <th>3</th>\n",
       "      <th>4</th>\n",
       "      <th>5</th>\n",
       "      <th>6</th>\n",
       "      <th>7</th>\n",
       "    </tr>\n",
       "  </thead>\n",
       "  <tbody>\n",
       "    <tr>\n",
       "      <th>0</th>\n",
       "      <td>0</td>\n",
       "      <td>14.968414</td>\n",
       "      <td>14.869604</td>\n",
       "      <td>8.652291</td>\n",
       "      <td>122.324349</td>\n",
       "      <td>5.623564</td>\n",
       "      <td>25.868691</td>\n",
       "      <td>2</td>\n",
       "    </tr>\n",
       "    <tr>\n",
       "      <th>1</th>\n",
       "      <td>1</td>\n",
       "      <td>16.397160</td>\n",
       "      <td>12.220855</td>\n",
       "      <td>8.733333</td>\n",
       "      <td>135.824333</td>\n",
       "      <td>12.787053</td>\n",
       "      <td>35.650207</td>\n",
       "      <td>2</td>\n",
       "    </tr>\n",
       "    <tr>\n",
       "      <th>2</th>\n",
       "      <td>2</td>\n",
       "      <td>21.624540</td>\n",
       "      <td>13.586879</td>\n",
       "      <td>8.733333</td>\n",
       "      <td>97.100546</td>\n",
       "      <td>1.553286</td>\n",
       "      <td>37.109058</td>\n",
       "      <td>2</td>\n",
       "    </tr>\n",
       "    <tr>\n",
       "      <th>3</th>\n",
       "      <td>3</td>\n",
       "      <td>16.458690</td>\n",
       "      <td>1.904802</td>\n",
       "      <td>-4.333333</td>\n",
       "      <td>6.943670</td>\n",
       "      <td>8.233419</td>\n",
       "      <td>27.122605</td>\n",
       "      <td>2</td>\n",
       "    </tr>\n",
       "    <tr>\n",
       "      <th>4</th>\n",
       "      <td>4</td>\n",
       "      <td>18.521669</td>\n",
       "      <td>13.700638</td>\n",
       "      <td>8.733333</td>\n",
       "      <td>22.887924</td>\n",
       "      <td>0.738972</td>\n",
       "      <td>13.222719</td>\n",
       "      <td>1</td>\n",
       "    </tr>\n",
       "  </tbody>\n",
       "</table>\n",
       "</div>"
      ],
      "text/plain": [
       "   0          1          2         3           4          5          6  7\n",
       "0  0  14.968414  14.869604  8.652291  122.324349   5.623564  25.868691  2\n",
       "1  1  16.397160  12.220855  8.733333  135.824333  12.787053  35.650207  2\n",
       "2  2  21.624540  13.586879  8.733333   97.100546   1.553286  37.109058  2\n",
       "3  3  16.458690   1.904802 -4.333333    6.943670   8.233419  27.122605  2\n",
       "4  4  18.521669  13.700638  8.733333   22.887924   0.738972  13.222719  1"
      ]
     },
     "execution_count": 6,
     "metadata": {},
     "output_type": "execute_result"
    }
   ],
   "source": [
    "df_victims.head()"
   ]
  },
  {
   "cell_type": "code",
   "execution_count": 14,
   "id": "17cee03b-a257-4492-81f2-e8081551b9ed",
   "metadata": {},
   "outputs": [],
   "source": [
    "X = df_victims.loc[:,3:5].to_numpy()\n",
    "y = df_victims.loc[:,6].to_numpy()"
   ]
  },
  {
   "cell_type": "code",
   "execution_count": 19,
   "id": "8685e9ae-7d49-465a-b1f5-70b5221b37d4",
   "metadata": {},
   "outputs": [],
   "source": [
    "def train_evaluate_MLP(X,y,n_neurons_layer,activation,max_iter):\n",
    "    X_train, X_test, y_train, y_test = train_test_split(X, y, test_size=0.2, random_state=42)\n",
    "    model = MLPRegressor(hidden_layer_sizes=(n_neurons_layer,), activation=activation, solver='adam', max_iter=max_iter, random_state=42)\n",
    "    model.fit(X_train, y_train)\n",
    "    y_pred = model.predict(X_test)\n",
    "    rmse = np.sqrt(mean_squared_error(y_test, y_pred))\n",
    "    print(f'Root Mean Squared Error: {rmse}')"
   ]
  },
  {
   "cell_type": "code",
   "execution_count": 20,
   "id": "d019f4f9-e233-41db-aeb7-e318dd827b47",
   "metadata": {},
   "outputs": [
    {
     "name": "stdout",
     "output_type": "stream",
     "text": [
      "Root Mean Squared Error: 14.83361323161256\n"
     ]
    }
   ],
   "source": [
    "train_evaluate_MLP(X,y,10,'identity',1000)"
   ]
  },
  {
   "cell_type": "code",
   "execution_count": 21,
   "id": "a7dd0f95-9777-422b-b292-8c9e52076e52",
   "metadata": {},
   "outputs": [
    {
     "name": "stdout",
     "output_type": "stream",
     "text": [
      "Root Mean Squared Error: 11.61652514468587\n"
     ]
    },
    {
     "name": "stderr",
     "output_type": "stream",
     "text": [
      "C:\\Users\\mbitt\\AppData\\Roaming\\Python\\Python39\\site-packages\\sklearn\\neural_network\\_multilayer_perceptron.py:691: ConvergenceWarning: Stochastic Optimizer: Maximum iterations (1000) reached and the optimization hasn't converged yet.\n",
      "  warnings.warn(\n"
     ]
    }
   ],
   "source": [
    "train_evaluate_MLP(X,y,10,'logistic',1000)"
   ]
  },
  {
   "cell_type": "code",
   "execution_count": 22,
   "id": "5e0d90f4-c57c-4ab8-b5e4-a399b965139c",
   "metadata": {},
   "outputs": [
    {
     "name": "stdout",
     "output_type": "stream",
     "text": [
      "Root Mean Squared Error: 8.66997117534811\n"
     ]
    },
    {
     "name": "stderr",
     "output_type": "stream",
     "text": [
      "C:\\Users\\mbitt\\AppData\\Roaming\\Python\\Python39\\site-packages\\sklearn\\neural_network\\_multilayer_perceptron.py:691: ConvergenceWarning: Stochastic Optimizer: Maximum iterations (1000) reached and the optimization hasn't converged yet.\n",
      "  warnings.warn(\n"
     ]
    }
   ],
   "source": [
    "train_evaluate_MLP(X,y,10,'tanh',1000)"
   ]
  },
  {
   "cell_type": "code",
   "execution_count": 23,
   "id": "1b8b9224-c0ed-4de8-a773-ed66f7191bb1",
   "metadata": {},
   "outputs": [
    {
     "name": "stdout",
     "output_type": "stream",
     "text": [
      "Root Mean Squared Error: 9.826349490279773\n"
     ]
    },
    {
     "name": "stderr",
     "output_type": "stream",
     "text": [
      "C:\\Users\\mbitt\\AppData\\Roaming\\Python\\Python39\\site-packages\\sklearn\\neural_network\\_multilayer_perceptron.py:691: ConvergenceWarning: Stochastic Optimizer: Maximum iterations (1000) reached and the optimization hasn't converged yet.\n",
      "  warnings.warn(\n"
     ]
    }
   ],
   "source": [
    "train_evaluate_MLP(X,y,10,'relu',1000)"
   ]
  },
  {
   "cell_type": "code",
   "execution_count": 24,
   "id": "29328b68-2908-4565-be5d-bf183a16f4b5",
   "metadata": {},
   "outputs": [
    {
     "name": "stdout",
     "output_type": "stream",
     "text": [
      "Root Mean Squared Error: 7.327016541346744\n"
     ]
    },
    {
     "name": "stderr",
     "output_type": "stream",
     "text": [
      "C:\\Users\\mbitt\\AppData\\Roaming\\Python\\Python39\\site-packages\\sklearn\\neural_network\\_multilayer_perceptron.py:691: ConvergenceWarning: Stochastic Optimizer: Maximum iterations (1000) reached and the optimization hasn't converged yet.\n",
      "  warnings.warn(\n"
     ]
    }
   ],
   "source": [
    "train_evaluate_MLP(X,y,32,'tanh',2000)"
   ]
  },
  {
   "cell_type": "code",
   "execution_count": 25,
   "id": "76b43bee-24a5-415a-8966-82c7ba461216",
   "metadata": {},
   "outputs": [
    {
     "name": "stdout",
     "output_type": "stream",
     "text": [
      "Root Mean Squared Error: 3.8416372643837957\n"
     ]
    }
   ],
   "source": [
    "train_evaluate_MLP(X,y,32,'tanh',2000)"
   ]
  },
  {
   "cell_type": "code",
   "execution_count": 26,
   "id": "07932870-dec2-4258-ac52-9a6683a2c516",
   "metadata": {},
   "outputs": [
    {
     "name": "stdout",
     "output_type": "stream",
     "text": [
      "Root Mean Squared Error: 3.3843099635585414\n"
     ]
    }
   ],
   "source": [
    "train_evaluate_MLP(X,y,64,'tanh',2000)"
   ]
  },
  {
   "cell_type": "code",
   "execution_count": 27,
   "id": "69d515cd-ffda-456f-aef7-ac98be83357b",
   "metadata": {},
   "outputs": [],
   "source": [
    "def train_evaluate_MLP_two_layers(X,y,n_neurons_first_layer,n_neurons_second_layer,activation,max_iter):\n",
    "    X_train, X_test, y_train, y_test = train_test_split(X, y, test_size=0.2, random_state=42)\n",
    "    model = MLPRegressor(hidden_layer_sizes=(n_neurons_first_layer,n_neurons_second_layer), activation=activation, solver='adam', max_iter=max_iter, random_state=42)\n",
    "    model.fit(X_train, y_train)\n",
    "    y_pred = model.predict(X_test)\n",
    "    rmse = np.sqrt(mean_squared_error(y_test, y_pred))\n",
    "    print(f'Root Mean Squared Error: {rmse}')"
   ]
  },
  {
   "cell_type": "code",
   "execution_count": 28,
   "id": "f8c38365-ed99-4055-ab9e-d8433b01068a",
   "metadata": {},
   "outputs": [
    {
     "name": "stdout",
     "output_type": "stream",
     "text": [
      "Root Mean Squared Error: 2.7564215922762245\n"
     ]
    }
   ],
   "source": [
    "train_evaluate_MLP_two_layers(X,y,32,32,'tanh',2000)"
   ]
  },
  {
   "cell_type": "code",
   "execution_count": 29,
   "id": "04b92c79-3656-4bb8-8fc6-a953a0ad088b",
   "metadata": {},
   "outputs": [
    {
     "name": "stdout",
     "output_type": "stream",
     "text": [
      "Root Mean Squared Error: 3.5011858818245654\n"
     ]
    }
   ],
   "source": [
    "train_evaluate_MLP_two_layers(X,y,32,64,'tanh',2000)"
   ]
  },
  {
   "cell_type": "code",
   "execution_count": 30,
   "id": "9a896956-7e08-4db1-be30-59cfcceaa4f9",
   "metadata": {},
   "outputs": [
    {
     "name": "stdout",
     "output_type": "stream",
     "text": [
      "Root Mean Squared Error: 2.9470141281618805\n"
     ]
    }
   ],
   "source": [
    "train_evaluate_MLP_two_layers(X,y,32,16,'tanh',2000)"
   ]
  },
  {
   "cell_type": "code",
   "execution_count": 31,
   "id": "302ab230-9e19-461e-b435-b6f5cdce3fb5",
   "metadata": {},
   "outputs": [
    {
     "name": "stdout",
     "output_type": "stream",
     "text": [
      "Root Mean Squared Error: 2.7564215922762245\n"
     ]
    }
   ],
   "source": [
    "X_train, X_test, y_train, y_test = train_test_split(X, y, test_size=0.2, random_state=42)\n",
    "model = MLPRegressor(hidden_layer_sizes=(32,32), activation='tanh', solver='adam', max_iter=2000, random_state=42)\n",
    "model.fit(X_train, y_train)\n",
    "y_pred = model.predict(X_test)\n",
    "rmse = np.sqrt(mean_squared_error(y_test, y_pred))\n",
    "print(f'Root Mean Squared Error: {rmse}')"
   ]
  },
  {
   "cell_type": "code",
   "execution_count": 33,
   "id": "3997d89f-34d6-426d-b322-54d633aacdaa",
   "metadata": {},
   "outputs": [],
   "source": [
    "with open('model.pkl', 'wb') as file:\n",
    "    pickle.dump(model, file)"
   ]
  },
  {
   "cell_type": "code",
   "execution_count": 34,
   "id": "dc50ee0e-0b08-4d34-92d0-d2949fb4a79e",
   "metadata": {},
   "outputs": [],
   "source": [
    "df_test = pd.read_csv('env_vital_signals_pre_test.txt',header=None)"
   ]
  },
  {
   "cell_type": "code",
   "execution_count": 35,
   "id": "b5b8a8db-5985-42c3-9a5b-e2e935c22e8e",
   "metadata": {},
   "outputs": [
    {
     "data": {
      "text/html": [
       "<div>\n",
       "<style scoped>\n",
       "    .dataframe tbody tr th:only-of-type {\n",
       "        vertical-align: middle;\n",
       "    }\n",
       "\n",
       "    .dataframe tbody tr th {\n",
       "        vertical-align: top;\n",
       "    }\n",
       "\n",
       "    .dataframe thead th {\n",
       "        text-align: right;\n",
       "    }\n",
       "</style>\n",
       "<table border=\"1\" class=\"dataframe\">\n",
       "  <thead>\n",
       "    <tr style=\"text-align: right;\">\n",
       "      <th></th>\n",
       "      <th>0</th>\n",
       "      <th>1</th>\n",
       "      <th>2</th>\n",
       "      <th>3</th>\n",
       "      <th>4</th>\n",
       "      <th>5</th>\n",
       "      <th>6</th>\n",
       "      <th>7</th>\n",
       "    </tr>\n",
       "  </thead>\n",
       "  <tbody>\n",
       "    <tr>\n",
       "      <th>0</th>\n",
       "      <td>0</td>\n",
       "      <td>15.701721</td>\n",
       "      <td>14.145122</td>\n",
       "      <td>8.721732</td>\n",
       "      <td>160.904175</td>\n",
       "      <td>20.926336</td>\n",
       "      <td>13.404672</td>\n",
       "      <td>1</td>\n",
       "    </tr>\n",
       "    <tr>\n",
       "      <th>1</th>\n",
       "      <td>1</td>\n",
       "      <td>18.907009</td>\n",
       "      <td>12.220855</td>\n",
       "      <td>8.733333</td>\n",
       "      <td>134.454047</td>\n",
       "      <td>17.972046</td>\n",
       "      <td>34.192304</td>\n",
       "      <td>2</td>\n",
       "    </tr>\n",
       "    <tr>\n",
       "      <th>2</th>\n",
       "      <td>2</td>\n",
       "      <td>14.698109</td>\n",
       "      <td>13.586879</td>\n",
       "      <td>8.614814</td>\n",
       "      <td>86.302237</td>\n",
       "      <td>4.168373</td>\n",
       "      <td>40.000000</td>\n",
       "      <td>2</td>\n",
       "    </tr>\n",
       "    <tr>\n",
       "      <th>3</th>\n",
       "      <td>3</td>\n",
       "      <td>16.428095</td>\n",
       "      <td>1.904802</td>\n",
       "      <td>-4.333333</td>\n",
       "      <td>138.880782</td>\n",
       "      <td>2.721256</td>\n",
       "      <td>27.122605</td>\n",
       "      <td>2</td>\n",
       "    </tr>\n",
       "    <tr>\n",
       "      <th>4</th>\n",
       "      <td>4</td>\n",
       "      <td>14.616501</td>\n",
       "      <td>13.700638</td>\n",
       "      <td>8.602531</td>\n",
       "      <td>51.356913</td>\n",
       "      <td>18.061923</td>\n",
       "      <td>47.188993</td>\n",
       "      <td>2</td>\n",
       "    </tr>\n",
       "  </tbody>\n",
       "</table>\n",
       "</div>"
      ],
      "text/plain": [
       "   0          1          2         3           4          5          6  7\n",
       "0  0  15.701721  14.145122  8.721732  160.904175  20.926336  13.404672  1\n",
       "1  1  18.907009  12.220855  8.733333  134.454047  17.972046  34.192304  2\n",
       "2  2  14.698109  13.586879  8.614814   86.302237   4.168373  40.000000  2\n",
       "3  3  16.428095   1.904802 -4.333333  138.880782   2.721256  27.122605  2\n",
       "4  4  14.616501  13.700638  8.602531   51.356913  18.061923  47.188993  2"
      ]
     },
     "execution_count": 35,
     "metadata": {},
     "output_type": "execute_result"
    }
   ],
   "source": [
    "df_test.head()"
   ]
  },
  {
   "cell_type": "code",
   "execution_count": 39,
   "id": "d178a97a-3ad4-459c-80bf-9f1ec69b1617",
   "metadata": {},
   "outputs": [],
   "source": [
    "X_test = df_test.loc[:,3:5].to_numpy()\n",
    "y_test = df_test.loc[:,6].to_numpy()"
   ]
  },
  {
   "cell_type": "code",
   "execution_count": 40,
   "id": "bb6e4473-de3c-4ecf-94b6-604b736988d0",
   "metadata": {},
   "outputs": [
    {
     "name": "stdout",
     "output_type": "stream",
     "text": [
      "Root Mean Squared Error: 2.6269169607574816\n"
     ]
    }
   ],
   "source": [
    "y_pred = model.predict(X_test)\n",
    "rmse = np.sqrt(mean_squared_error(y_test, y_pred))\n",
    "print(f'Root Mean Squared Error: {rmse}')"
   ]
  }
 ],
 "metadata": {
  "kernelspec": {
   "display_name": "Python 3 (ipykernel)",
   "language": "python",
   "name": "python3"
  },
  "language_info": {
   "codemirror_mode": {
    "name": "ipython",
    "version": 3
   },
   "file_extension": ".py",
   "mimetype": "text/x-python",
   "name": "python",
   "nbconvert_exporter": "python",
   "pygments_lexer": "ipython3",
   "version": "3.9.11"
  }
 },
 "nbformat": 4,
 "nbformat_minor": 5
}
