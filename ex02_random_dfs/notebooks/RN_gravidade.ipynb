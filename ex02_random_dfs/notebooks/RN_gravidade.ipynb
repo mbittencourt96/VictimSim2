{
 "cells": [
  {
   "cell_type": "code",
   "execution_count": 1,
   "id": "5ddd5127-83cf-4fba-a4f2-1ae00e79ed30",
   "metadata": {},
   "outputs": [],
   "source": [
    "import numpy as np\n",
    "from sklearn.neural_network import MLPRegressor\n",
    "from sklearn.model_selection import train_test_split\n",
    "from sklearn.metrics import mean_squared_error"
   ]
  },
  {
   "cell_type": "code",
   "execution_count": 2,
   "id": "2d2da24c-3937-4699-923c-9f6ba3d0c538",
   "metadata": {},
   "outputs": [],
   "source": [
    "import pandas as pd"
   ]
  },
  {
   "cell_type": "code",
   "execution_count": 32,
   "id": "722869dc-d224-4efe-aaac-d33d6842bcff",
   "metadata": {},
   "outputs": [],
   "source": [
    "import pickle"
   ]
  },
  {
   "cell_type": "code",
   "execution_count": 5,
   "id": "bc0a92ff-bfe5-4bc5-a5ef-b7b31dd097b2",
   "metadata": {},
   "outputs": [],
   "source": [
    "df_victims = pd.read_csv('env_vital_signals.txt', header=None)"
   ]
  },
  {
   "cell_type": "code",
   "execution_count": 6,
   "id": "617cec67-7df9-4567-b946-7b1c777902e6",
   "metadata": {},
   "outputs": [
    {
     "data": {
      "text/html": [
       "<div>\n",
       "<style scoped>\n",
       "    .dataframe tbody tr th:only-of-type {\n",
       "        vertical-align: middle;\n",
       "    }\n",
       "\n",
       "    .dataframe tbody tr th {\n",
       "        vertical-align: top;\n",
       "    }\n",
       "\n",
       "    .dataframe thead th {\n",
       "        text-align: right;\n",
       "    }\n",
       "</style>\n",
       "<table border=\"1\" class=\"dataframe\">\n",
       "  <thead>\n",
       "    <tr style=\"text-align: right;\">\n",
       "      <th></th>\n",
       "      <th>0</th>\n",
       "      <th>1</th>\n",
       "      <th>2</th>\n",
       "      <th>3</th>\n",
       "      <th>4</th>\n",
       "      <th>5</th>\n",
       "      <th>6</th>\n",
       "      <th>7</th>\n",
       "    </tr>\n",
       "  </thead>\n",
       "  <tbody>\n",
       "    <tr>\n",
       "      <th>0</th>\n",
       "      <td>0</td>\n",
       "      <td>14.968414</td>\n",
       "      <td>14.869604</td>\n",
       "      <td>8.652291</td>\n",
       "      <td>122.324349</td>\n",
       "      <td>5.623564</td>\n",
       "      <td>25.868691</td>\n",
       "      <td>2</td>\n",
       "    </tr>\n",
       "    <tr>\n",
       "      <th>1</th>\n",
       "      <td>1</td>\n",
       "      <td>16.397160</td>\n",
       "      <td>12.220855</td>\n",
       "      <td>8.733333</td>\n",
       "      <td>135.824333</td>\n",
       "      <td>12.787053</td>\n",
       "      <td>35.650207</td>\n",
       "      <td>2</td>\n",
       "    </tr>\n",
       "    <tr>\n",
       "      <th>2</th>\n",
       "      <td>2</td>\n",
       "      <td>21.624540</td>\n",
       "      <td>13.586879</td>\n",
       "      <td>8.733333</td>\n",
       "      <td>97.100546</td>\n",
       "      <td>1.553286</td>\n",
       "      <td>37.109058</td>\n",
       "      <td>2</td>\n",
       "    </tr>\n",
       "    <tr>\n",
       "      <th>3</th>\n",
       "      <td>3</td>\n",
       "      <td>16.458690</td>\n",
       "      <td>1.904802</td>\n",
       "      <td>-4.333333</td>\n",
       "      <td>6.943670</td>\n",
       "      <td>8.233419</td>\n",
       "      <td>27.122605</td>\n",
       "      <td>2</td>\n",
       "    </tr>\n",
       "    <tr>\n",
       "      <th>4</th>\n",
       "      <td>4</td>\n",
       "      <td>18.521669</td>\n",
       "      <td>13.700638</td>\n",
       "      <td>8.733333</td>\n",
       "      <td>22.887924</td>\n",
       "      <td>0.738972</td>\n",
       "      <td>13.222719</td>\n",
       "      <td>1</td>\n",
       "    </tr>\n",
       "  </tbody>\n",
       "</table>\n",
       "</div>"
      ],
      "text/plain": [
       "   0          1          2         3           4          5          6  7\n",
       "0  0  14.968414  14.869604  8.652291  122.324349   5.623564  25.868691  2\n",
       "1  1  16.397160  12.220855  8.733333  135.824333  12.787053  35.650207  2\n",
       "2  2  21.624540  13.586879  8.733333   97.100546   1.553286  37.109058  2\n",
       "3  3  16.458690   1.904802 -4.333333    6.943670   8.233419  27.122605  2\n",
       "4  4  18.521669  13.700638  8.733333   22.887924   0.738972  13.222719  1"
      ]
     },
     "execution_count": 6,
     "metadata": {},
     "output_type": "execute_result"
    }
   ],
   "source": [
    "df_victims.head()"
   ]
  },
  {
   "cell_type": "code",
   "execution_count": 14,
   "id": "17cee03b-a257-4492-81f2-e8081551b9ed",
   "metadata": {},
   "outputs": [],
   "source": [
    "X = df_victims.loc[:,3:5].to_numpy()\n",
    "y = df_victims.loc[:,6].to_numpy()"
   ]
  },
  {
   "cell_type": "code",
   "execution_count": 19,
   "id": "8685e9ae-7d49-465a-b1f5-70b5221b37d4",
   "metadata": {},
   "outputs": [],
   "source": [
    "def train_evaluate_MLP(X,y,n_neurons_layer,activation,max_iter):\n",
    "    X_train, X_test, y_train, y_test = train_test_split(X, y, test_size=0.2, random_state=42)\n",
    "    model = MLPRegressor(hidden_layer_sizes=(n_neurons_layer,), activation=activation, solver='adam', max_iter=max_iter, random_state=42)\n",
    "    model.fit(X_train, y_train)\n",
    "    y_pred = model.predict(X_test)\n",
    "    rmse = np.sqrt(mean_squared_error(y_test, y_pred))\n",
    "    print(f'Root Mean Squared Error: {rmse}')"
   ]
  },
  {
   "cell_type": "code",
   "execution_count": 20,
   "id": "d019f4f9-e233-41db-aeb7-e318dd827b47",
   "metadata": {},
   "outputs": [
    {
     "name": "stdout",
     "output_type": "stream",
     "text": [
      "Root Mean Squared Error: 14.83361323161256\n"
     ]
    }
   ],
   "source": [
    "train_evaluate_MLP(X,y,10,'identity',1000)"
   ]
  },
  {
   "cell_type": "code",
   "execution_count": 21,
   "id": "a7dd0f95-9777-422b-b292-8c9e52076e52",
   "metadata": {},
   "outputs": [
    {
     "name": "stdout",
     "output_type": "stream",
     "text": [
      "Root Mean Squared Error: 11.61652514468587\n"
     ]
    },
    {
     "name": "stderr",
     "output_type": "stream",
     "text": [
      "C:\\Users\\mbitt\\AppData\\Roaming\\Python\\Python39\\site-packages\\sklearn\\neural_network\\_multilayer_perceptron.py:691: ConvergenceWarning: Stochastic Optimizer: Maximum iterations (1000) reached and the optimization hasn't converged yet.\n",
      "  warnings.warn(\n"
     ]
    }
   ],
   "source": [
    "train_evaluate_MLP(X,y,10,'logistic',1000)"
   ]
  },
  {
   "cell_type": "code",
   "execution_count": 22,
   "id": "5e0d90f4-c57c-4ab8-b5e4-a399b965139c",
   "metadata": {},
   "outputs": [
    {
     "name": "stdout",
     "output_type": "stream",
     "text": [
      "Root Mean Squared Error: 8.66997117534811\n"
     ]
    },
    {
     "name": "stderr",
     "output_type": "stream",
     "text": [
      "C:\\Users\\mbitt\\AppData\\Roaming\\Python\\Python39\\site-packages\\sklearn\\neural_network\\_multilayer_perceptron.py:691: ConvergenceWarning: Stochastic Optimizer: Maximum iterations (1000) reached and the optimization hasn't converged yet.\n",
      "  warnings.warn(\n"
     ]
    }
   ],
   "source": [
    "train_evaluate_MLP(X,y,10,'tanh',1000)"
   ]
  },
  {
   "cell_type": "code",
   "execution_count": 23,
   "id": "1b8b9224-c0ed-4de8-a773-ed66f7191bb1",
   "metadata": {},
   "outputs": [
    {
     "name": "stdout",
     "output_type": "stream",
     "text": [
      "Root Mean Squared Error: 9.826349490279773\n"
     ]
    },
    {
     "name": "stderr",
     "output_type": "stream",
     "text": [
      "C:\\Users\\mbitt\\AppData\\Roaming\\Python\\Python39\\site-packages\\sklearn\\neural_network\\_multilayer_perceptron.py:691: ConvergenceWarning: Stochastic Optimizer: Maximum iterations (1000) reached and the optimization hasn't converged yet.\n",
      "  warnings.warn(\n"
     ]
    }
   ],
   "source": [
    "train_evaluate_MLP(X,y,10,'relu',1000)"
   ]
  },
  {
   "cell_type": "code",
   "execution_count": 24,
   "id": "29328b68-2908-4565-be5d-bf183a16f4b5",
   "metadata": {},
   "outputs": [
    {
     "name": "stdout",
     "output_type": "stream",
     "text": [
      "Root Mean Squared Error: 7.327016541346744\n"
     ]
    },
    {
     "name": "stderr",
     "output_type": "stream",
     "text": [
      "C:\\Users\\mbitt\\AppData\\Roaming\\Python\\Python39\\site-packages\\sklearn\\neural_network\\_multilayer_perceptron.py:691: ConvergenceWarning: Stochastic Optimizer: Maximum iterations (1000) reached and the optimization hasn't converged yet.\n",
      "  warnings.warn(\n"
     ]
    }
   ],
   "source": [
    "train_evaluate_MLP(X,y,32,'tanh',2000)"
   ]
  },
  {
   "cell_type": "code",
   "execution_count": 25,
   "id": "76b43bee-24a5-415a-8966-82c7ba461216",
   "metadata": {},
   "outputs": [
    {
     "name": "stdout",
     "output_type": "stream",
     "text": [
      "Root Mean Squared Error: 3.8416372643837957\n"
     ]
    }
   ],
   "source": [
    "train_evaluate_MLP(X,y,32,'tanh',2000)"
   ]
  },
  {
   "cell_type": "code",
   "execution_count": 26,
   "id": "07932870-dec2-4258-ac52-9a6683a2c516",
   "metadata": {},
   "outputs": [
    {
     "name": "stdout",
     "output_type": "stream",
     "text": [
      "Root Mean Squared Error: 3.3843099635585414\n"
     ]
    }
   ],
   "source": [
    "train_evaluate_MLP(X,y,64,'tanh',2000)"
   ]
  },
  {
   "cell_type": "code",
   "execution_count": 27,
   "id": "69d515cd-ffda-456f-aef7-ac98be83357b",
   "metadata": {},
   "outputs": [],
   "source": [
    "def train_evaluate_MLP_two_layers(X,y,n_neurons_first_layer,n_neurons_second_layer,activation,max_iter):\n",
    "    X_train, X_test, y_train, y_test = train_test_split(X, y, test_size=0.2, random_state=42)\n",
    "    model = MLPRegressor(hidden_layer_sizes=(n_neurons_first_layer,n_neurons_second_layer), activation=activation, solver='adam', max_iter=max_iter, random_state=42)\n",
    "    model.fit(X_train, y_train)\n",
    "    y_pred = model.predict(X_test)\n",
    "    rmse = np.sqrt(mean_squared_error(y_test, y_pred))\n",
    "    print(f'Root Mean Squared Error: {rmse}')"
   ]
  },
  {
   "cell_type": "code",
   "execution_count": 28,
   "id": "f8c38365-ed99-4055-ab9e-d8433b01068a",
   "metadata": {},
   "outputs": [
    {
     "name": "stdout",
     "output_type": "stream",
     "text": [
      "Root Mean Squared Error: 2.7564215922762245\n"
     ]
    }
   ],
   "source": [
    "train_evaluate_MLP_two_layers(X,y,32,32,'tanh',2000)"
   ]
  },
  {
   "cell_type": "code",
   "execution_count": 29,
   "id": "04b92c79-3656-4bb8-8fc6-a953a0ad088b",
   "metadata": {},
   "outputs": [
    {
     "name": "stdout",
     "output_type": "stream",
     "text": [
      "Root Mean Squared Error: 3.5011858818245654\n"
     ]
    }
   ],
   "source": [
    "train_evaluate_MLP_two_layers(X,y,32,64,'tanh',2000)"
   ]
  },
  {
   "cell_type": "code",
   "execution_count": 30,
   "id": "9a896956-7e08-4db1-be30-59cfcceaa4f9",
   "metadata": {},
   "outputs": [
    {
     "name": "stdout",
     "output_type": "stream",
     "text": [
      "Root Mean Squared Error: 2.9470141281618805\n"
     ]
    }
   ],
   "source": [
    "train_evaluate_MLP_two_layers(X,y,32,16,'tanh',2000)"
   ]
  },
  {
   "cell_type": "code",
   "execution_count": 31,
   "id": "302ab230-9e19-461e-b435-b6f5cdce3fb5",
   "metadata": {},
   "outputs": [
    {
     "name": "stdout",
     "output_type": "stream",
     "text": [
      "Root Mean Squared Error: 2.7564215922762245\n"
     ]
    }
   ],
   "source": [
    "X_train, X_test, y_train, y_test = train_test_split(X, y, test_size=0.2, random_state=42)\n",
    "model = MLPRegressor(hidden_layer_sizes=(32,32), activation='tanh', solver='adam', max_iter=2000, random_state=42)\n",
    "model.fit(X_train, y_train)\n",
    "y_pred = model.predict(X_test)\n",
    "rmse = np.sqrt(mean_squared_error(y_test, y_pred))\n",
    "print(f'Root Mean Squared Error: {rmse}')"
   ]
  },
  {
   "cell_type": "code",
   "execution_count": 33,
   "id": "3997d89f-34d6-426d-b322-54d633aacdaa",
   "metadata": {},
   "outputs": [],
   "source": [
    "with open('model.pkl', 'wb') as file:\n",
    "    pickle.dump(model, file)"
   ]
  },
  {
   "cell_type": "code",
   "execution_count": 34,
   "id": "dc50ee0e-0b08-4d34-92d0-d2949fb4a79e",
   "metadata": {},
   "outputs": [],
   "source": [
    "df_test = pd.read_csv('env_vital_signals_pre_test.txt',header=None)"
   ]
  },
  {
   "cell_type": "code",
   "execution_count": 35,
   "id": "b5b8a8db-5985-42c3-9a5b-e2e935c22e8e",
   "metadata": {},
   "outputs": [
    {
     "data": {
      "text/html": [
       "<div>\n",
       "<style scoped>\n",
       "    .dataframe tbody tr th:only-of-type {\n",
       "        vertical-align: middle;\n",
       "    }\n",
       "\n",
       "    .dataframe tbody tr th {\n",
       "        vertical-align: top;\n",
       "    }\n",
       "\n",
       "    .dataframe thead th {\n",
       "        text-align: right;\n",
       "    }\n",
       "</style>\n",
       "<table border=\"1\" class=\"dataframe\">\n",
       "  <thead>\n",
       "    <tr style=\"text-align: right;\">\n",
       "      <th></th>\n",
       "      <th>0</th>\n",
       "      <th>1</th>\n",
       "      <th>2</th>\n",
       "      <th>3</th>\n",
       "      <th>4</th>\n",
       "      <th>5</th>\n",
       "      <th>6</th>\n",
       "      <th>7</th>\n",
       "    </tr>\n",
       "  </thead>\n",
       "  <tbody>\n",
       "    <tr>\n",
       "      <th>0</th>\n",
       "      <td>0</td>\n",
       "      <td>15.701721</td>\n",
       "      <td>14.145122</td>\n",
       "      <td>8.721732</td>\n",
       "      <td>160.904175</td>\n",
       "      <td>20.926336</td>\n",
       "      <td>13.404672</td>\n",
       "      <td>1</td>\n",
       "    </tr>\n",
       "    <tr>\n",
       "      <th>1</th>\n",
       "      <td>1</td>\n",
       "      <td>18.907009</td>\n",
       "      <td>12.220855</td>\n",
       "      <td>8.733333</td>\n",
       "      <td>134.454047</td>\n",
       "      <td>17.972046</td>\n",
       "      <td>34.192304</td>\n",
       "      <td>2</td>\n",
       "    </tr>\n",
       "    <tr>\n",
       "      <th>2</th>\n",
       "      <td>2</td>\n",
       "      <td>14.698109</td>\n",
       "      <td>13.586879</td>\n",
       "      <td>8.614814</td>\n",
       "      <td>86.302237</td>\n",
       "      <td>4.168373</td>\n",
       "      <td>40.000000</td>\n",
       "      <td>2</td>\n",
       "    </tr>\n",
       "    <tr>\n",
       "      <th>3</th>\n",
       "      <td>3</td>\n",
       "      <td>16.428095</td>\n",
       "      <td>1.904802</td>\n",
       "      <td>-4.333333</td>\n",
       "      <td>138.880782</td>\n",
       "      <td>2.721256</td>\n",
       "      <td>27.122605</td>\n",
       "      <td>2</td>\n",
       "    </tr>\n",
       "    <tr>\n",
       "      <th>4</th>\n",
       "      <td>4</td>\n",
       "      <td>14.616501</td>\n",
       "      <td>13.700638</td>\n",
       "      <td>8.602531</td>\n",
       "      <td>51.356913</td>\n",
       "      <td>18.061923</td>\n",
       "      <td>47.188993</td>\n",
       "      <td>2</td>\n",
       "    </tr>\n",
       "  </tbody>\n",
       "</table>\n",
       "</div>"
      ],
      "text/plain": [
       "   0          1          2         3           4          5          6  7\n",
       "0  0  15.701721  14.145122  8.721732  160.904175  20.926336  13.404672  1\n",
       "1  1  18.907009  12.220855  8.733333  134.454047  17.972046  34.192304  2\n",
       "2  2  14.698109  13.586879  8.614814   86.302237   4.168373  40.000000  2\n",
       "3  3  16.428095   1.904802 -4.333333  138.880782   2.721256  27.122605  2\n",
       "4  4  14.616501  13.700638  8.602531   51.356913  18.061923  47.188993  2"
      ]
     },
     "execution_count": 35,
     "metadata": {},
     "output_type": "execute_result"
    }
   ],
   "source": [
    "df_test.head()"
   ]
  },
  {
   "cell_type": "code",
   "execution_count": 39,
   "id": "d178a97a-3ad4-459c-80bf-9f1ec69b1617",
   "metadata": {},
   "outputs": [],
   "source": [
    "X_test = df_test.loc[:,3:5].to_numpy()\n",
    "y_test = df_test.loc[:,6].to_numpy()"
   ]
  },
  {
   "cell_type": "code",
   "execution_count": 40,
   "id": "bb6e4473-de3c-4ecf-94b6-604b736988d0",
   "metadata": {},
   "outputs": [
    {
     "name": "stdout",
     "output_type": "stream",
     "text": [
      "Root Mean Squared Error: 2.6269169607574816\n"
     ]
    }
   ],
   "source": [
    "y_pred = model.predict(X_test)\n",
    "rmse = np.sqrt(mean_squared_error(y_test, y_pred))\n",
    "print(f'Root Mean Squared Error: {rmse}')"
   ]
  },
  {
   "cell_type": "markdown",
   "id": "848a0a3c-b47a-46c0-a4da-dbd3ad4efa5e",
   "metadata": {},
   "source": [
    "### Rede Neural AG"
   ]
  },
  {
   "cell_type": "code",
   "execution_count": 41,
   "id": "2445fb04-12ff-488f-9fa2-e698c307103f",
   "metadata": {},
   "outputs": [],
   "source": [
    "df_rescue = pd.read_csv('rescue_prior.txt', header=None)"
   ]
  },
  {
   "cell_type": "code",
   "execution_count": 42,
   "id": "7331d0b7-fb9c-45a4-8113-0fd2b8187d34",
   "metadata": {},
   "outputs": [
    {
     "data": {
      "text/html": [
       "<div>\n",
       "<style scoped>\n",
       "    .dataframe tbody tr th:only-of-type {\n",
       "        vertical-align: middle;\n",
       "    }\n",
       "\n",
       "    .dataframe tbody tr th {\n",
       "        vertical-align: top;\n",
       "    }\n",
       "\n",
       "    .dataframe thead th {\n",
       "        text-align: right;\n",
       "    }\n",
       "</style>\n",
       "<table border=\"1\" class=\"dataframe\">\n",
       "  <thead>\n",
       "    <tr style=\"text-align: right;\">\n",
       "      <th></th>\n",
       "      <th>0</th>\n",
       "      <th>1</th>\n",
       "      <th>2</th>\n",
       "      <th>3</th>\n",
       "      <th>4</th>\n",
       "    </tr>\n",
       "  </thead>\n",
       "  <tbody>\n",
       "    <tr>\n",
       "      <th>0</th>\n",
       "      <td>9.0</td>\n",
       "      <td>32.965609</td>\n",
       "      <td>30.149627</td>\n",
       "      <td>6</td>\n",
       "      <td>48.039609</td>\n",
       "    </tr>\n",
       "    <tr>\n",
       "      <th>1</th>\n",
       "      <td>9.0</td>\n",
       "      <td>20.337312</td>\n",
       "      <td>19.235384</td>\n",
       "      <td>40</td>\n",
       "      <td>48.797844</td>\n",
       "    </tr>\n",
       "    <tr>\n",
       "      <th>2</th>\n",
       "      <td>9.0</td>\n",
       "      <td>13.416656</td>\n",
       "      <td>25.079872</td>\n",
       "      <td>37</td>\n",
       "      <td>48.142857</td>\n",
       "    </tr>\n",
       "    <tr>\n",
       "      <th>3</th>\n",
       "      <td>9.0</td>\n",
       "      <td>37.591714</td>\n",
       "      <td>18.110770</td>\n",
       "      <td>96</td>\n",
       "      <td>62.743566</td>\n",
       "    </tr>\n",
       "    <tr>\n",
       "      <th>4</th>\n",
       "      <td>9.0</td>\n",
       "      <td>31.732731</td>\n",
       "      <td>17.117243</td>\n",
       "      <td>31</td>\n",
       "      <td>51.151857</td>\n",
       "    </tr>\n",
       "  </tbody>\n",
       "</table>\n",
       "</div>"
      ],
      "text/plain": [
       "     0          1          2   3          4\n",
       "0  9.0  32.965609  30.149627   6  48.039609\n",
       "1  9.0  20.337312  19.235384  40  48.797844\n",
       "2  9.0  13.416656  25.079872  37  48.142857\n",
       "3  9.0  37.591714  18.110770  96  62.743566\n",
       "4  9.0  31.732731  17.117243  31  51.151857"
      ]
     },
     "execution_count": 42,
     "metadata": {},
     "output_type": "execute_result"
    }
   ],
   "source": [
    "df_rescue.head()"
   ]
  },
  {
   "cell_type": "code",
   "execution_count": 55,
   "id": "f006075a-06d0-4002-9091-91ce7326fad0",
   "metadata": {},
   "outputs": [],
   "source": [
    "X = df_rescue.loc[:,:3].to_numpy()\n",
    "y = df_rescue.loc[:,4].to_numpy()"
   ]
  },
  {
   "cell_type": "code",
   "execution_count": 48,
   "id": "29029b4e-022f-48e0-97fb-dacbcdfcd77b",
   "metadata": {},
   "outputs": [
    {
     "name": "stdout",
     "output_type": "stream",
     "text": [
      "Root Mean Squared Error: 6.388961269991752\n"
     ]
    }
   ],
   "source": [
    "train_evaluate_MLP_two_layers(X,y,64,32,'relu',2000)"
   ]
  },
  {
   "cell_type": "code",
   "execution_count": 50,
   "id": "a765f38a-90d6-4088-aa8a-47f2428ec369",
   "metadata": {},
   "outputs": [
    {
     "name": "stdout",
     "output_type": "stream",
     "text": [
      "Root Mean Squared Error: 6.273511993804165\n"
     ]
    }
   ],
   "source": [
    "train_evaluate_MLP_two_layers(X,y,64,32,'tanh',3000)"
   ]
  },
  {
   "cell_type": "code",
   "execution_count": 56,
   "id": "69ce5cc1-6ffd-4370-a2ea-e02147ad53f0",
   "metadata": {},
   "outputs": [
    {
     "data": {
      "text/html": [
       "<style>#sk-container-id-1 {\n",
       "  /* Definition of color scheme common for light and dark mode */\n",
       "  --sklearn-color-text: black;\n",
       "  --sklearn-color-line: gray;\n",
       "  /* Definition of color scheme for unfitted estimators */\n",
       "  --sklearn-color-unfitted-level-0: #fff5e6;\n",
       "  --sklearn-color-unfitted-level-1: #f6e4d2;\n",
       "  --sklearn-color-unfitted-level-2: #ffe0b3;\n",
       "  --sklearn-color-unfitted-level-3: chocolate;\n",
       "  /* Definition of color scheme for fitted estimators */\n",
       "  --sklearn-color-fitted-level-0: #f0f8ff;\n",
       "  --sklearn-color-fitted-level-1: #d4ebff;\n",
       "  --sklearn-color-fitted-level-2: #b3dbfd;\n",
       "  --sklearn-color-fitted-level-3: cornflowerblue;\n",
       "\n",
       "  /* Specific color for light theme */\n",
       "  --sklearn-color-text-on-default-background: var(--sg-text-color, var(--theme-code-foreground, var(--jp-content-font-color1, black)));\n",
       "  --sklearn-color-background: var(--sg-background-color, var(--theme-background, var(--jp-layout-color0, white)));\n",
       "  --sklearn-color-border-box: var(--sg-text-color, var(--theme-code-foreground, var(--jp-content-font-color1, black)));\n",
       "  --sklearn-color-icon: #696969;\n",
       "\n",
       "  @media (prefers-color-scheme: dark) {\n",
       "    /* Redefinition of color scheme for dark theme */\n",
       "    --sklearn-color-text-on-default-background: var(--sg-text-color, var(--theme-code-foreground, var(--jp-content-font-color1, white)));\n",
       "    --sklearn-color-background: var(--sg-background-color, var(--theme-background, var(--jp-layout-color0, #111)));\n",
       "    --sklearn-color-border-box: var(--sg-text-color, var(--theme-code-foreground, var(--jp-content-font-color1, white)));\n",
       "    --sklearn-color-icon: #878787;\n",
       "  }\n",
       "}\n",
       "\n",
       "#sk-container-id-1 {\n",
       "  color: var(--sklearn-color-text);\n",
       "}\n",
       "\n",
       "#sk-container-id-1 pre {\n",
       "  padding: 0;\n",
       "}\n",
       "\n",
       "#sk-container-id-1 input.sk-hidden--visually {\n",
       "  border: 0;\n",
       "  clip: rect(1px 1px 1px 1px);\n",
       "  clip: rect(1px, 1px, 1px, 1px);\n",
       "  height: 1px;\n",
       "  margin: -1px;\n",
       "  overflow: hidden;\n",
       "  padding: 0;\n",
       "  position: absolute;\n",
       "  width: 1px;\n",
       "}\n",
       "\n",
       "#sk-container-id-1 div.sk-dashed-wrapped {\n",
       "  border: 1px dashed var(--sklearn-color-line);\n",
       "  margin: 0 0.4em 0.5em 0.4em;\n",
       "  box-sizing: border-box;\n",
       "  padding-bottom: 0.4em;\n",
       "  background-color: var(--sklearn-color-background);\n",
       "}\n",
       "\n",
       "#sk-container-id-1 div.sk-container {\n",
       "  /* jupyter's `normalize.less` sets `[hidden] { display: none; }`\n",
       "     but bootstrap.min.css set `[hidden] { display: none !important; }`\n",
       "     so we also need the `!important` here to be able to override the\n",
       "     default hidden behavior on the sphinx rendered scikit-learn.org.\n",
       "     See: https://github.com/scikit-learn/scikit-learn/issues/21755 */\n",
       "  display: inline-block !important;\n",
       "  position: relative;\n",
       "}\n",
       "\n",
       "#sk-container-id-1 div.sk-text-repr-fallback {\n",
       "  display: none;\n",
       "}\n",
       "\n",
       "div.sk-parallel-item,\n",
       "div.sk-serial,\n",
       "div.sk-item {\n",
       "  /* draw centered vertical line to link estimators */\n",
       "  background-image: linear-gradient(var(--sklearn-color-text-on-default-background), var(--sklearn-color-text-on-default-background));\n",
       "  background-size: 2px 100%;\n",
       "  background-repeat: no-repeat;\n",
       "  background-position: center center;\n",
       "}\n",
       "\n",
       "/* Parallel-specific style estimator block */\n",
       "\n",
       "#sk-container-id-1 div.sk-parallel-item::after {\n",
       "  content: \"\";\n",
       "  width: 100%;\n",
       "  border-bottom: 2px solid var(--sklearn-color-text-on-default-background);\n",
       "  flex-grow: 1;\n",
       "}\n",
       "\n",
       "#sk-container-id-1 div.sk-parallel {\n",
       "  display: flex;\n",
       "  align-items: stretch;\n",
       "  justify-content: center;\n",
       "  background-color: var(--sklearn-color-background);\n",
       "  position: relative;\n",
       "}\n",
       "\n",
       "#sk-container-id-1 div.sk-parallel-item {\n",
       "  display: flex;\n",
       "  flex-direction: column;\n",
       "}\n",
       "\n",
       "#sk-container-id-1 div.sk-parallel-item:first-child::after {\n",
       "  align-self: flex-end;\n",
       "  width: 50%;\n",
       "}\n",
       "\n",
       "#sk-container-id-1 div.sk-parallel-item:last-child::after {\n",
       "  align-self: flex-start;\n",
       "  width: 50%;\n",
       "}\n",
       "\n",
       "#sk-container-id-1 div.sk-parallel-item:only-child::after {\n",
       "  width: 0;\n",
       "}\n",
       "\n",
       "/* Serial-specific style estimator block */\n",
       "\n",
       "#sk-container-id-1 div.sk-serial {\n",
       "  display: flex;\n",
       "  flex-direction: column;\n",
       "  align-items: center;\n",
       "  background-color: var(--sklearn-color-background);\n",
       "  padding-right: 1em;\n",
       "  padding-left: 1em;\n",
       "}\n",
       "\n",
       "\n",
       "/* Toggleable style: style used for estimator/Pipeline/ColumnTransformer box that is\n",
       "clickable and can be expanded/collapsed.\n",
       "- Pipeline and ColumnTransformer use this feature and define the default style\n",
       "- Estimators will overwrite some part of the style using the `sk-estimator` class\n",
       "*/\n",
       "\n",
       "/* Pipeline and ColumnTransformer style (default) */\n",
       "\n",
       "#sk-container-id-1 div.sk-toggleable {\n",
       "  /* Default theme specific background. It is overwritten whether we have a\n",
       "  specific estimator or a Pipeline/ColumnTransformer */\n",
       "  background-color: var(--sklearn-color-background);\n",
       "}\n",
       "\n",
       "/* Toggleable label */\n",
       "#sk-container-id-1 label.sk-toggleable__label {\n",
       "  cursor: pointer;\n",
       "  display: block;\n",
       "  width: 100%;\n",
       "  margin-bottom: 0;\n",
       "  padding: 0.5em;\n",
       "  box-sizing: border-box;\n",
       "  text-align: center;\n",
       "}\n",
       "\n",
       "#sk-container-id-1 label.sk-toggleable__label-arrow:before {\n",
       "  /* Arrow on the left of the label */\n",
       "  content: \"▸\";\n",
       "  float: left;\n",
       "  margin-right: 0.25em;\n",
       "  color: var(--sklearn-color-icon);\n",
       "}\n",
       "\n",
       "#sk-container-id-1 label.sk-toggleable__label-arrow:hover:before {\n",
       "  color: var(--sklearn-color-text);\n",
       "}\n",
       "\n",
       "/* Toggleable content - dropdown */\n",
       "\n",
       "#sk-container-id-1 div.sk-toggleable__content {\n",
       "  max-height: 0;\n",
       "  max-width: 0;\n",
       "  overflow: hidden;\n",
       "  text-align: left;\n",
       "  /* unfitted */\n",
       "  background-color: var(--sklearn-color-unfitted-level-0);\n",
       "}\n",
       "\n",
       "#sk-container-id-1 div.sk-toggleable__content.fitted {\n",
       "  /* fitted */\n",
       "  background-color: var(--sklearn-color-fitted-level-0);\n",
       "}\n",
       "\n",
       "#sk-container-id-1 div.sk-toggleable__content pre {\n",
       "  margin: 0.2em;\n",
       "  border-radius: 0.25em;\n",
       "  color: var(--sklearn-color-text);\n",
       "  /* unfitted */\n",
       "  background-color: var(--sklearn-color-unfitted-level-0);\n",
       "}\n",
       "\n",
       "#sk-container-id-1 div.sk-toggleable__content.fitted pre {\n",
       "  /* unfitted */\n",
       "  background-color: var(--sklearn-color-fitted-level-0);\n",
       "}\n",
       "\n",
       "#sk-container-id-1 input.sk-toggleable__control:checked~div.sk-toggleable__content {\n",
       "  /* Expand drop-down */\n",
       "  max-height: 200px;\n",
       "  max-width: 100%;\n",
       "  overflow: auto;\n",
       "}\n",
       "\n",
       "#sk-container-id-1 input.sk-toggleable__control:checked~label.sk-toggleable__label-arrow:before {\n",
       "  content: \"▾\";\n",
       "}\n",
       "\n",
       "/* Pipeline/ColumnTransformer-specific style */\n",
       "\n",
       "#sk-container-id-1 div.sk-label input.sk-toggleable__control:checked~label.sk-toggleable__label {\n",
       "  color: var(--sklearn-color-text);\n",
       "  background-color: var(--sklearn-color-unfitted-level-2);\n",
       "}\n",
       "\n",
       "#sk-container-id-1 div.sk-label.fitted input.sk-toggleable__control:checked~label.sk-toggleable__label {\n",
       "  background-color: var(--sklearn-color-fitted-level-2);\n",
       "}\n",
       "\n",
       "/* Estimator-specific style */\n",
       "\n",
       "/* Colorize estimator box */\n",
       "#sk-container-id-1 div.sk-estimator input.sk-toggleable__control:checked~label.sk-toggleable__label {\n",
       "  /* unfitted */\n",
       "  background-color: var(--sklearn-color-unfitted-level-2);\n",
       "}\n",
       "\n",
       "#sk-container-id-1 div.sk-estimator.fitted input.sk-toggleable__control:checked~label.sk-toggleable__label {\n",
       "  /* fitted */\n",
       "  background-color: var(--sklearn-color-fitted-level-2);\n",
       "}\n",
       "\n",
       "#sk-container-id-1 div.sk-label label.sk-toggleable__label,\n",
       "#sk-container-id-1 div.sk-label label {\n",
       "  /* The background is the default theme color */\n",
       "  color: var(--sklearn-color-text-on-default-background);\n",
       "}\n",
       "\n",
       "/* On hover, darken the color of the background */\n",
       "#sk-container-id-1 div.sk-label:hover label.sk-toggleable__label {\n",
       "  color: var(--sklearn-color-text);\n",
       "  background-color: var(--sklearn-color-unfitted-level-2);\n",
       "}\n",
       "\n",
       "/* Label box, darken color on hover, fitted */\n",
       "#sk-container-id-1 div.sk-label.fitted:hover label.sk-toggleable__label.fitted {\n",
       "  color: var(--sklearn-color-text);\n",
       "  background-color: var(--sklearn-color-fitted-level-2);\n",
       "}\n",
       "\n",
       "/* Estimator label */\n",
       "\n",
       "#sk-container-id-1 div.sk-label label {\n",
       "  font-family: monospace;\n",
       "  font-weight: bold;\n",
       "  display: inline-block;\n",
       "  line-height: 1.2em;\n",
       "}\n",
       "\n",
       "#sk-container-id-1 div.sk-label-container {\n",
       "  text-align: center;\n",
       "}\n",
       "\n",
       "/* Estimator-specific */\n",
       "#sk-container-id-1 div.sk-estimator {\n",
       "  font-family: monospace;\n",
       "  border: 1px dotted var(--sklearn-color-border-box);\n",
       "  border-radius: 0.25em;\n",
       "  box-sizing: border-box;\n",
       "  margin-bottom: 0.5em;\n",
       "  /* unfitted */\n",
       "  background-color: var(--sklearn-color-unfitted-level-0);\n",
       "}\n",
       "\n",
       "#sk-container-id-1 div.sk-estimator.fitted {\n",
       "  /* fitted */\n",
       "  background-color: var(--sklearn-color-fitted-level-0);\n",
       "}\n",
       "\n",
       "/* on hover */\n",
       "#sk-container-id-1 div.sk-estimator:hover {\n",
       "  /* unfitted */\n",
       "  background-color: var(--sklearn-color-unfitted-level-2);\n",
       "}\n",
       "\n",
       "#sk-container-id-1 div.sk-estimator.fitted:hover {\n",
       "  /* fitted */\n",
       "  background-color: var(--sklearn-color-fitted-level-2);\n",
       "}\n",
       "\n",
       "/* Specification for estimator info (e.g. \"i\" and \"?\") */\n",
       "\n",
       "/* Common style for \"i\" and \"?\" */\n",
       "\n",
       ".sk-estimator-doc-link,\n",
       "a:link.sk-estimator-doc-link,\n",
       "a:visited.sk-estimator-doc-link {\n",
       "  float: right;\n",
       "  font-size: smaller;\n",
       "  line-height: 1em;\n",
       "  font-family: monospace;\n",
       "  background-color: var(--sklearn-color-background);\n",
       "  border-radius: 1em;\n",
       "  height: 1em;\n",
       "  width: 1em;\n",
       "  text-decoration: none !important;\n",
       "  margin-left: 1ex;\n",
       "  /* unfitted */\n",
       "  border: var(--sklearn-color-unfitted-level-1) 1pt solid;\n",
       "  color: var(--sklearn-color-unfitted-level-1);\n",
       "}\n",
       "\n",
       ".sk-estimator-doc-link.fitted,\n",
       "a:link.sk-estimator-doc-link.fitted,\n",
       "a:visited.sk-estimator-doc-link.fitted {\n",
       "  /* fitted */\n",
       "  border: var(--sklearn-color-fitted-level-1) 1pt solid;\n",
       "  color: var(--sklearn-color-fitted-level-1);\n",
       "}\n",
       "\n",
       "/* On hover */\n",
       "div.sk-estimator:hover .sk-estimator-doc-link:hover,\n",
       ".sk-estimator-doc-link:hover,\n",
       "div.sk-label-container:hover .sk-estimator-doc-link:hover,\n",
       ".sk-estimator-doc-link:hover {\n",
       "  /* unfitted */\n",
       "  background-color: var(--sklearn-color-unfitted-level-3);\n",
       "  color: var(--sklearn-color-background);\n",
       "  text-decoration: none;\n",
       "}\n",
       "\n",
       "div.sk-estimator.fitted:hover .sk-estimator-doc-link.fitted:hover,\n",
       ".sk-estimator-doc-link.fitted:hover,\n",
       "div.sk-label-container:hover .sk-estimator-doc-link.fitted:hover,\n",
       ".sk-estimator-doc-link.fitted:hover {\n",
       "  /* fitted */\n",
       "  background-color: var(--sklearn-color-fitted-level-3);\n",
       "  color: var(--sklearn-color-background);\n",
       "  text-decoration: none;\n",
       "}\n",
       "\n",
       "/* Span, style for the box shown on hovering the info icon */\n",
       ".sk-estimator-doc-link span {\n",
       "  display: none;\n",
       "  z-index: 9999;\n",
       "  position: relative;\n",
       "  font-weight: normal;\n",
       "  right: .2ex;\n",
       "  padding: .5ex;\n",
       "  margin: .5ex;\n",
       "  width: min-content;\n",
       "  min-width: 20ex;\n",
       "  max-width: 50ex;\n",
       "  color: var(--sklearn-color-text);\n",
       "  box-shadow: 2pt 2pt 4pt #999;\n",
       "  /* unfitted */\n",
       "  background: var(--sklearn-color-unfitted-level-0);\n",
       "  border: .5pt solid var(--sklearn-color-unfitted-level-3);\n",
       "}\n",
       "\n",
       ".sk-estimator-doc-link.fitted span {\n",
       "  /* fitted */\n",
       "  background: var(--sklearn-color-fitted-level-0);\n",
       "  border: var(--sklearn-color-fitted-level-3);\n",
       "}\n",
       "\n",
       ".sk-estimator-doc-link:hover span {\n",
       "  display: block;\n",
       "}\n",
       "\n",
       "/* \"?\"-specific style due to the `<a>` HTML tag */\n",
       "\n",
       "#sk-container-id-1 a.estimator_doc_link {\n",
       "  float: right;\n",
       "  font-size: 1rem;\n",
       "  line-height: 1em;\n",
       "  font-family: monospace;\n",
       "  background-color: var(--sklearn-color-background);\n",
       "  border-radius: 1rem;\n",
       "  height: 1rem;\n",
       "  width: 1rem;\n",
       "  text-decoration: none;\n",
       "  /* unfitted */\n",
       "  color: var(--sklearn-color-unfitted-level-1);\n",
       "  border: var(--sklearn-color-unfitted-level-1) 1pt solid;\n",
       "}\n",
       "\n",
       "#sk-container-id-1 a.estimator_doc_link.fitted {\n",
       "  /* fitted */\n",
       "  border: var(--sklearn-color-fitted-level-1) 1pt solid;\n",
       "  color: var(--sklearn-color-fitted-level-1);\n",
       "}\n",
       "\n",
       "/* On hover */\n",
       "#sk-container-id-1 a.estimator_doc_link:hover {\n",
       "  /* unfitted */\n",
       "  background-color: var(--sklearn-color-unfitted-level-3);\n",
       "  color: var(--sklearn-color-background);\n",
       "  text-decoration: none;\n",
       "}\n",
       "\n",
       "#sk-container-id-1 a.estimator_doc_link.fitted:hover {\n",
       "  /* fitted */\n",
       "  background-color: var(--sklearn-color-fitted-level-3);\n",
       "}\n",
       "</style><div id=\"sk-container-id-1\" class=\"sk-top-container\"><div class=\"sk-text-repr-fallback\"><pre>MLPRegressor(activation=&#x27;tanh&#x27;, hidden_layer_sizes=(64, 32), max_iter=3000,\n",
       "             random_state=42)</pre><b>In a Jupyter environment, please rerun this cell to show the HTML representation or trust the notebook. <br />On GitHub, the HTML representation is unable to render, please try loading this page with nbviewer.org.</b></div><div class=\"sk-container\" hidden><div class=\"sk-item\"><div class=\"sk-estimator fitted sk-toggleable\"><input class=\"sk-toggleable__control sk-hidden--visually\" id=\"sk-estimator-id-1\" type=\"checkbox\" checked><label for=\"sk-estimator-id-1\" class=\"sk-toggleable__label fitted sk-toggleable__label-arrow fitted\">&nbsp;&nbsp;MLPRegressor<a class=\"sk-estimator-doc-link fitted\" rel=\"noreferrer\" target=\"_blank\" href=\"https://scikit-learn.org/1.4/modules/generated/sklearn.neural_network.MLPRegressor.html\">?<span>Documentation for MLPRegressor</span></a><span class=\"sk-estimator-doc-link fitted\">i<span>Fitted</span></span></label><div class=\"sk-toggleable__content fitted\"><pre>MLPRegressor(activation=&#x27;tanh&#x27;, hidden_layer_sizes=(64, 32), max_iter=3000,\n",
       "             random_state=42)</pre></div> </div></div></div></div>"
      ],
      "text/plain": [
       "MLPRegressor(activation='tanh', hidden_layer_sizes=(64, 32), max_iter=3000,\n",
       "             random_state=42)"
      ]
     },
     "execution_count": 56,
     "metadata": {},
     "output_type": "execute_result"
    }
   ],
   "source": [
    "X_train, X_test, y_train, y_test = train_test_split(X, y, test_size=0.2, random_state=42)\n",
    "model = MLPRegressor(hidden_layer_sizes=(64,32), activation='tanh', solver='adam', max_iter=3000, random_state=42)\n",
    "model.fit(X_train, y_train)"
   ]
  },
  {
   "cell_type": "code",
   "execution_count": 51,
   "id": "7f044b04-3493-40ac-a782-efd477e41fa0",
   "metadata": {},
   "outputs": [],
   "source": [
    "df_rescue_blind = pd.read_csv('rescue_prior_preblind.txt', header=None)"
   ]
  },
  {
   "cell_type": "code",
   "execution_count": 52,
   "id": "97752b93-56bb-4f9d-8e94-7819f2a65722",
   "metadata": {},
   "outputs": [
    {
     "data": {
      "text/html": [
       "<div>\n",
       "<style scoped>\n",
       "    .dataframe tbody tr th:only-of-type {\n",
       "        vertical-align: middle;\n",
       "    }\n",
       "\n",
       "    .dataframe tbody tr th {\n",
       "        vertical-align: top;\n",
       "    }\n",
       "\n",
       "    .dataframe thead th {\n",
       "        text-align: right;\n",
       "    }\n",
       "</style>\n",
       "<table border=\"1\" class=\"dataframe\">\n",
       "  <thead>\n",
       "    <tr style=\"text-align: right;\">\n",
       "      <th></th>\n",
       "      <th>0</th>\n",
       "      <th>1</th>\n",
       "      <th>2</th>\n",
       "      <th>3</th>\n",
       "    </tr>\n",
       "  </thead>\n",
       "  <tbody>\n",
       "    <tr>\n",
       "      <th>0</th>\n",
       "      <td>9.0</td>\n",
       "      <td>32.965609</td>\n",
       "      <td>30.149627</td>\n",
       "      <td>6</td>\n",
       "    </tr>\n",
       "    <tr>\n",
       "      <th>1</th>\n",
       "      <td>9.0</td>\n",
       "      <td>20.337312</td>\n",
       "      <td>19.235384</td>\n",
       "      <td>40</td>\n",
       "    </tr>\n",
       "    <tr>\n",
       "      <th>2</th>\n",
       "      <td>9.0</td>\n",
       "      <td>13.416656</td>\n",
       "      <td>25.079872</td>\n",
       "      <td>37</td>\n",
       "    </tr>\n",
       "    <tr>\n",
       "      <th>3</th>\n",
       "      <td>9.0</td>\n",
       "      <td>37.591714</td>\n",
       "      <td>18.110770</td>\n",
       "      <td>96</td>\n",
       "    </tr>\n",
       "    <tr>\n",
       "      <th>4</th>\n",
       "      <td>9.0</td>\n",
       "      <td>31.732731</td>\n",
       "      <td>17.117243</td>\n",
       "      <td>31</td>\n",
       "    </tr>\n",
       "  </tbody>\n",
       "</table>\n",
       "</div>"
      ],
      "text/plain": [
       "     0          1          2   3\n",
       "0  9.0  32.965609  30.149627   6\n",
       "1  9.0  20.337312  19.235384  40\n",
       "2  9.0  13.416656  25.079872  37\n",
       "3  9.0  37.591714  18.110770  96\n",
       "4  9.0  31.732731  17.117243  31"
      ]
     },
     "execution_count": 52,
     "metadata": {},
     "output_type": "execute_result"
    }
   ],
   "source": [
    "df_rescue_blind.head()"
   ]
  },
  {
   "cell_type": "code",
   "execution_count": 53,
   "id": "0af1e998-1506-442f-9697-3346e6473f92",
   "metadata": {},
   "outputs": [],
   "source": [
    "X = df_rescue_blind.to_numpy()"
   ]
  },
  {
   "cell_type": "code",
   "execution_count": 54,
   "id": "98955d36-39ac-46a4-b7ef-e26da586b69b",
   "metadata": {},
   "outputs": [
    {
     "data": {
      "text/plain": [
       "array([[  9.        ,  32.965609  ,  30.14962686,   6.        ],\n",
       "       [  9.        ,  20.337312  ,  19.23538406,  40.        ],\n",
       "       [  9.        ,  13.416656  ,  25.07987241,  37.        ],\n",
       "       ...,\n",
       "       [306.        ,  13.295374  ,  98.11218069,  19.        ],\n",
       "       [309.82648789,  52.008724  ,  85.70880935,  64.        ],\n",
       "       [308.55066104,  14.467427  ,  88.88756943,  82.        ]])"
      ]
     },
     "execution_count": 54,
     "metadata": {},
     "output_type": "execute_result"
    }
   ],
   "source": [
    "X"
   ]
  },
  {
   "cell_type": "code",
   "execution_count": 57,
   "id": "dd61bbbb-417b-4802-9397-80d6d890687b",
   "metadata": {},
   "outputs": [],
   "source": [
    "y_pred = model.predict(X)"
   ]
  },
  {
   "cell_type": "code",
   "execution_count": 61,
   "id": "53b7f6c3-5584-4131-a2ec-8f071f97a070",
   "metadata": {},
   "outputs": [
    {
     "data": {
      "text/plain": [
       "48.68542002440333"
      ]
     },
     "execution_count": 61,
     "metadata": {},
     "output_type": "execute_result"
    }
   ],
   "source": [
    "y_pred[0]"
   ]
  },
  {
   "cell_type": "code",
   "execution_count": 59,
   "id": "cf635ead-1dbf-41e2-892b-7d94447050e7",
   "metadata": {},
   "outputs": [],
   "source": [
    "df_target_blind = pd.read_csv('rescue_prior_preblind_target.txt', header=None)"
   ]
  },
  {
   "cell_type": "code",
   "execution_count": 60,
   "id": "c80aec8d-9d0e-4636-9609-20deef1a1ea2",
   "metadata": {},
   "outputs": [
    {
     "data": {
      "text/html": [
       "<div>\n",
       "<style scoped>\n",
       "    .dataframe tbody tr th:only-of-type {\n",
       "        vertical-align: middle;\n",
       "    }\n",
       "\n",
       "    .dataframe tbody tr th {\n",
       "        vertical-align: top;\n",
       "    }\n",
       "\n",
       "    .dataframe thead th {\n",
       "        text-align: right;\n",
       "    }\n",
       "</style>\n",
       "<table border=\"1\" class=\"dataframe\">\n",
       "  <thead>\n",
       "    <tr style=\"text-align: right;\">\n",
       "      <th></th>\n",
       "      <th>0</th>\n",
       "      <th>1</th>\n",
       "      <th>2</th>\n",
       "      <th>3</th>\n",
       "      <th>4</th>\n",
       "    </tr>\n",
       "  </thead>\n",
       "  <tbody>\n",
       "    <tr>\n",
       "      <th>0</th>\n",
       "      <td>9.0</td>\n",
       "      <td>32.965609</td>\n",
       "      <td>30.149627</td>\n",
       "      <td>6</td>\n",
       "      <td>48.039609</td>\n",
       "    </tr>\n",
       "    <tr>\n",
       "      <th>1</th>\n",
       "      <td>9.0</td>\n",
       "      <td>20.337312</td>\n",
       "      <td>19.235384</td>\n",
       "      <td>40</td>\n",
       "      <td>48.797844</td>\n",
       "    </tr>\n",
       "    <tr>\n",
       "      <th>2</th>\n",
       "      <td>9.0</td>\n",
       "      <td>13.416656</td>\n",
       "      <td>25.079872</td>\n",
       "      <td>37</td>\n",
       "      <td>48.142857</td>\n",
       "    </tr>\n",
       "    <tr>\n",
       "      <th>3</th>\n",
       "      <td>9.0</td>\n",
       "      <td>37.591714</td>\n",
       "      <td>18.110770</td>\n",
       "      <td>96</td>\n",
       "      <td>62.743566</td>\n",
       "    </tr>\n",
       "    <tr>\n",
       "      <th>4</th>\n",
       "      <td>9.0</td>\n",
       "      <td>31.732731</td>\n",
       "      <td>17.117243</td>\n",
       "      <td>31</td>\n",
       "      <td>51.151857</td>\n",
       "    </tr>\n",
       "  </tbody>\n",
       "</table>\n",
       "</div>"
      ],
      "text/plain": [
       "     0          1          2   3          4\n",
       "0  9.0  32.965609  30.149627   6  48.039609\n",
       "1  9.0  20.337312  19.235384  40  48.797844\n",
       "2  9.0  13.416656  25.079872  37  48.142857\n",
       "3  9.0  37.591714  18.110770  96  62.743566\n",
       "4  9.0  31.732731  17.117243  31  51.151857"
      ]
     },
     "execution_count": 60,
     "metadata": {},
     "output_type": "execute_result"
    }
   ],
   "source": [
    "df_target_blind.head()"
   ]
  },
  {
   "cell_type": "code",
   "execution_count": 62,
   "id": "f8a8dfe6-e0f9-48a4-b97c-bf5e216b719a",
   "metadata": {},
   "outputs": [],
   "source": [
    "y_target = df_target_blind.loc[:,4]"
   ]
  },
  {
   "cell_type": "code",
   "execution_count": 64,
   "id": "87f10217-8750-47af-b11a-bf00da7633d5",
   "metadata": {},
   "outputs": [],
   "source": [
    "y_target = y_target.to_numpy()"
   ]
  },
  {
   "cell_type": "code",
   "execution_count": 65,
   "id": "963d119a-b885-4aaf-a75e-6507f69936a7",
   "metadata": {},
   "outputs": [
    {
     "data": {
      "text/plain": [
       "array([48.039609, 48.797844, 48.142857, 62.743566, 51.151857, 83.190476,\n",
       "       50.225375, 53.793609, 63.197104, 35.549153, 50.301907, 47.428571,\n",
       "       32.461954, 59.229503, 53.      , 39.582769, 48.598989, 54.441133,\n",
       "       52.466074, 58.901566, 43.857143, 46.58177 , 34.530276, 21.253902,\n",
       "       60.434704, 55.002137, 23.187778, 43.428571, 42.625105, 54.      ,\n",
       "       50.      , 16.500436, 45.491747, 32.456893, 54.516075, 55.871555,\n",
       "       80.190476, 57.354874, 28.662815, 52.199441, 63.199441, 46.428571,\n",
       "       55.142857, 42.35196 , 33.383049, 51.653287, 50.343071, 69.181009,\n",
       "       36.558737, 43.174033, 56.      , 61.154536, 55.77087 , 60.497707,\n",
       "       47.20813 , 46.205331, 63.401138, 60.212356, 49.69831 , 44.714286,\n",
       "       49.532267, 53.263603, 53.714286, 43.06876 , 49.721868, 54.316401,\n",
       "       48.571429, 57.626427, 63.142038, 53.891993, 56.153726, 57.346607,\n",
       "       65.126878, 82.619048, 51.329942, 48.378151, 18.034328, 18.698143,\n",
       "       35.12053 , 57.384485, 64.565179, 44.698449, 56.665096, 56.861908,\n",
       "       68.576355, 48.188325, 34.885465, 41.743278, 78.341362, 50.666674,\n",
       "       38.104195, 56.591554, 51.718991, 59.299615, 35.628535, 55.997776,\n",
       "       61.056584, 74.072787, 47.381185, 48.374577, 35.028322, 71.619048,\n",
       "       59.484324, 53.498366, 52.475198, 82.761905, 83.333333, 55.628013,\n",
       "       46.428571, 50.913727, 43.196926, 46.22224 , 47.428571, 74.827189,\n",
       "       54.569218, 41.402642, 38.439912, 26.014603, 49.387274, 19.952381,\n",
       "       59.913727, 47.432257, 51.857143, 46.889588, 64.880492, 51.76217 ,\n",
       "       40.687141, 62.94402 , 60.488351, 53.857942, 37.385344, 55.197443,\n",
       "       52.056584, 47.950841, 46.      , 47.267871, 49.228171, 46.918903,\n",
       "       46.251381, 54.588556, 32.833438, 75.058799, 47.505995, 45.537104,\n",
       "       43.319207, 31.539701, 29.022317, 65.423834, 18.302685, 32.695501,\n",
       "       44.023455, 33.744593, 19.52381 , 32.167822, 47.395498, 37.442892,\n",
       "       23.109819, 24.256864, 31.100571, 44.428571, 60.00387 , 56.224598,\n",
       "       28.058324, 45.313549, 43.110338, 32.942161, 47.695899, 34.401893,\n",
       "       45.813635, 24.049238, 47.482814, 36.489453, 60.208307, 30.909008,\n",
       "       32.601171, 66.206744, 44.55554 , 41.273773, 36.610924, 38.930435,\n",
       "       37.988919, 20.394345, 43.622021, 33.619717, 21.238095, 50.782829,\n",
       "       31.861008, 14.183544, 15.809524, 20.128921, 26.757374, 14.52381 ,\n",
       "       33.13186 , 36.466783, 27.356507, 51.428571, 11.160122, 47.428571,\n",
       "       32.610729, 45.325003, 38.355546, 21.809524, 21.380952, 38.010057,\n",
       "       50.428571, 15.952381, 47.835476, 39.314036, 27.314036, 51.      ,\n",
       "       18.809524, 35.837669, 45.857143, 38.884568, 21.39191 , 54.36736 ,\n",
       "       26.952381, 46.120172, 48.457298, 31.286805, 42.738619, 44.447178,\n",
       "       28.095238, 22.809524, 23.860819, 27.498814, 34.06266 , 34.808708,\n",
       "       24.265207, 27.547332, 33.170811, 29.581391, 21.401309, 40.847443,\n",
       "       29.845132, 42.096492, 44.953331, 34.482827, 28.948115, 46.      ,\n",
       "       39.83039 , 18.0429  , 25.025779, 56.428571, 22.606532, 46.857143,\n",
       "       20.901222, 15.809524, 20.380952, 41.028322, 46.357685, 34.199399,\n",
       "       21.43038 , 14.666667, 27.724605, 33.789959, 31.782189, 31.171179,\n",
       "       44.      , 22.735292, 38.07847 , 25.506771, 31.390663, 52.857143,\n",
       "       31.809317, 33.314036, 39.225247, 24.238095, 42.857143, 23.258043,\n",
       "       31.307591, 13.4912  , 48.857143, 21.238095, 35.405044, 27.958525,\n",
       "       29.278986, 36.743611, 27.78462 , 26.242872, 26.066356, 21.52381 ,\n",
       "       29.489004, 37.182132, 27.05724 , 25.611058, 27.238095, 36.022086,\n",
       "       21.107878, 28.694571, 36.216883, 41.981187, 11.098583, 25.396341,\n",
       "       17.52381 , 36.831619, 21.759966, 45.425361, 19.074915, 12.571429])"
      ]
     },
     "execution_count": 65,
     "metadata": {},
     "output_type": "execute_result"
    }
   ],
   "source": [
    "y_target"
   ]
  },
  {
   "cell_type": "code",
   "execution_count": 66,
   "id": "44ea93b7-4503-47de-b041-51dd5b19cd8b",
   "metadata": {},
   "outputs": [
    {
     "name": "stdout",
     "output_type": "stream",
     "text": [
      "Root Mean Squared Error: 3.6470879653870356\n"
     ]
    }
   ],
   "source": [
    "rmse = np.sqrt(mean_squared_error(y_pred, y_target))\n",
    "print(f'Root Mean Squared Error: {rmse}')"
   ]
  },
  {
   "cell_type": "code",
   "execution_count": 67,
   "id": "def48476-f8bb-45a3-9bbb-44af044919ab",
   "metadata": {},
   "outputs": [],
   "source": [
    "with open('model_ag.pkl', 'wb') as file:\n",
    "    pickle.dump(model, file)"
   ]
  },
  {
   "cell_type": "code",
   "execution_count": null,
   "id": "2631bddf-848b-4646-b9e9-c58b3e7e8bfc",
   "metadata": {},
   "outputs": [],
   "source": []
  }
 ],
 "metadata": {
  "kernelspec": {
   "display_name": "Python 3 (ipykernel)",
   "language": "python",
   "name": "python3"
  },
  "language_info": {
   "codemirror_mode": {
    "name": "ipython",
    "version": 3
   },
   "file_extension": ".py",
   "mimetype": "text/x-python",
   "name": "python",
   "nbconvert_exporter": "python",
   "pygments_lexer": "ipython3",
   "version": "3.9.11"
  }
 },
 "nbformat": 4,
 "nbformat_minor": 5
}
